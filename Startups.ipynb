{
 "cells": [
  {
   "cell_type": "markdown",
   "id": "9d11398f-a6c4-4bef-873e-694fb43e5f75",
   "metadata": {},
   "source": [
    "**УСПЕШНОСТЬ СТАРТАПОВ (1980-2018 гг.)**"
   ]
  },
  {
   "cell_type": "markdown",
   "id": "2825e4f5-2a80-4e95-a428-fc93bcba1785",
   "metadata": {},
   "source": [
    "**Цель проекта:**\n",
    "1. Разработать модель машинного обучения для предсказания продолжения деятельности\n",
    "стартапа.\n",
    "2. Провести разведочный анализ и сформировать рекомендации будущим\n",
    "создателям стартапов (какие факторы влияют на успешность стартапа)."
   ]
  },
  {
   "cell_type": "markdown",
   "id": "65bd72e1-df50-47e8-94c5-7d49e195b057",
   "metadata": {},
   "source": [
    "**Исходные данные**"
   ]
  },
  {
   "cell_type": "markdown",
   "id": "2d5ab83d-04fd-44cd-aaeb-088bc3250944",
   "metadata": {},
   "source": [
    "Заказчик предоставил данные в 2 файлах: тренировочный набор (53 тыс. записей) и тестовый набор (13 тыс. записей). Тренировочный набор включает целевой признак status, указывающий на то, закрылся стартап или продолжает действовать. Хронологичесие рамки - '1970-01-01' по '2018-01-01'. Дата выгрузки - '2018-01-01'"
   ]
  },
  {
   "cell_type": "markdown",
   "id": "90ac59b6-8f55-43ea-be4b-9b5e5372b708",
   "metadata": {},
   "source": [
    "name -              Название стартапа  \n",
    "category_list -     Список категорий, к которым относится стартап  \n",
    "funding_total_usd - Общая сумма финансирования в USD  \n",
    "status -            Статус стартапа (закрыт или действующий)  \n",
    "country_code -      Код страны  \n",
    "state_code -        Код штата  \n",
    "region -            Регион  \n",
    "city -              Город  \n",
    "funding_rounds -    Количество раундов финансирования  \n",
    "founded_at -        Дата основания  \n",
    "first_funding_at -  Дата первого раунда финансирования  \n",
    "last_funding_at -   Дата последнего раунда финансирования  \n",
    "closed_at -         Дата закрытия стартапа (если применимо)  \n",
    "lifetime -          Время существования стартапа в днях  "
   ]
  },
  {
   "cell_type": "markdown",
   "id": "53e32d06-6246-4e21-8fd8-c0ad1110bb7c",
   "metadata": {},
   "source": [
    "**ПЛАН исследования**"
   ]
  },
  {
   "cell_type": "markdown",
   "id": "f8fca074-9c67-49be-a919-036f921aa549",
   "metadata": {},
   "source": [
    "Шаг 1. Загрузка файлов с данными  \n",
    "Шаг 2. Предобработка данных  \n",
    "  2.1. Наименование столбцов  \n",
    "  2.2. Пропуски  \n",
    "  2.3. Типы данных  \n",
    "  2.4. Дубликаты  \n",
    "  2.5. Добавление новых столбцов  \n",
    "Шаг 3. Исследовательский анализ данных  \n",
    "Шаг 4. Подготовка данных  \n",
    "Шаг 5. Выбор и обучение модели  \n",
    "Шаг 6. Итоговая оценка качества предсказания лучшей модели  \n",
    "Шаг 7. Анализ важности признаков  \n",
    "Шаг 8. Отчёт по исследованию  "
   ]
  },
  {
   "cell_type": "code",
   "execution_count": 8,
   "id": "23533b75-517d-410f-a591-a633dab51408",
   "metadata": {},
   "outputs": [
    {
     "name": "stdout",
     "output_type": "stream",
     "text": [
      "Note: you may need to restart the kernel to use updated packages.\n"
     ]
    }
   ],
   "source": [
    "pip install phik==0.10.0 -q"
   ]
  },
  {
   "cell_type": "code",
   "execution_count": 9,
   "id": "a202da3b-f6d6-49f8-b1aa-3da9d2b83137",
   "metadata": {},
   "outputs": [
    {
     "name": "stdout",
     "output_type": "stream",
     "text": [
      "Requirement already satisfied: optuna-integration in c:\\users\\pegof\\anaconda3\\lib\\site-packages (3.6.0)\n",
      "Requirement already satisfied: optuna in c:\\users\\pegof\\anaconda3\\lib\\site-packages (from optuna-integration) (3.6.1)\n",
      "Requirement already satisfied: alembic>=1.5.0 in c:\\users\\pegof\\anaconda3\\lib\\site-packages (from optuna->optuna-integration) (1.13.2)\n",
      "Requirement already satisfied: colorlog in c:\\users\\pegof\\anaconda3\\lib\\site-packages (from optuna->optuna-integration) (6.8.2)\n",
      "Requirement already satisfied: numpy in c:\\users\\pegof\\anaconda3\\lib\\site-packages (from optuna->optuna-integration) (1.26.4)\n",
      "Requirement already satisfied: packaging>=20.0 in c:\\users\\pegof\\anaconda3\\lib\\site-packages (from optuna->optuna-integration) (23.2)\n",
      "Requirement already satisfied: sqlalchemy>=1.3.0 in c:\\users\\pegof\\anaconda3\\lib\\site-packages (from optuna->optuna-integration) (2.0.30)\n",
      "Requirement already satisfied: tqdm in c:\\users\\pegof\\anaconda3\\lib\\site-packages (from optuna->optuna-integration) (4.66.4)\n",
      "Requirement already satisfied: PyYAML in c:\\users\\pegof\\anaconda3\\lib\\site-packages (from optuna->optuna-integration) (6.0.1)\n",
      "Requirement already satisfied: Mako in c:\\users\\pegof\\anaconda3\\lib\\site-packages (from alembic>=1.5.0->optuna->optuna-integration) (1.3.5)\n",
      "Requirement already satisfied: typing-extensions>=4 in c:\\users\\pegof\\anaconda3\\lib\\site-packages (from alembic>=1.5.0->optuna->optuna-integration) (4.11.0)\n",
      "Requirement already satisfied: greenlet!=0.4.17 in c:\\users\\pegof\\anaconda3\\lib\\site-packages (from sqlalchemy>=1.3.0->optuna->optuna-integration) (3.0.1)\n",
      "Requirement already satisfied: colorama in c:\\users\\pegof\\anaconda3\\lib\\site-packages (from colorlog->optuna->optuna-integration) (0.4.6)\n",
      "Requirement already satisfied: MarkupSafe>=0.9.2 in c:\\users\\pegof\\anaconda3\\lib\\site-packages (from Mako->alembic>=1.5.0->optuna->optuna-integration) (2.1.3)\n",
      "Note: you may need to restart the kernel to use updated packages.\n"
     ]
    }
   ],
   "source": [
    "pip install optuna-integration"
   ]
  },
  {
   "cell_type": "code",
   "execution_count": 10,
   "id": "e353986a-34c0-45f5-88f6-7cbd28bd0047",
   "metadata": {},
   "outputs": [
    {
     "name": "stdout",
     "output_type": "stream",
     "text": [
      "Note: you may need to restart the kernel to use updated packages.\n"
     ]
    }
   ],
   "source": [
    "pip install pycountry -q"
   ]
  },
  {
   "cell_type": "code",
   "execution_count": 11,
   "id": "b432b444-1f25-4e9a-8219-5e910706c0b9",
   "metadata": {},
   "outputs": [
    {
     "name": "stdout",
     "output_type": "stream",
     "text": [
      "Note: you may need to restart the kernel to use updated packages.\n"
     ]
    }
   ],
   "source": [
    "pip install shap -q"
   ]
  },
  {
   "cell_type": "code",
   "execution_count": 12,
   "id": "23002477-2169-43eb-8b2c-196c2084a626",
   "metadata": {},
   "outputs": [
    {
     "name": "stdout",
     "output_type": "stream",
     "text": [
      "Note: you may need to restart the kernel to use updated packages.\n"
     ]
    }
   ],
   "source": [
    "pip install --upgrade scikit-learn -q"
   ]
  },
  {
   "cell_type": "code",
   "execution_count": 13,
   "id": "4b10fab7-338d-49be-ba4d-bb9e5b245eb3",
   "metadata": {},
   "outputs": [
    {
     "name": "stdout",
     "output_type": "stream",
     "text": [
      "Requirement already satisfied: missingno in c:\\users\\pegof\\anaconda3\\lib\\site-packages (0.5.2)\n",
      "Requirement already satisfied: numpy in c:\\users\\pegof\\anaconda3\\lib\\site-packages (from missingno) (1.26.4)\n",
      "Requirement already satisfied: matplotlib in c:\\users\\pegof\\anaconda3\\lib\\site-packages (from missingno) (3.8.4)\n",
      "Requirement already satisfied: scipy in c:\\users\\pegof\\anaconda3\\lib\\site-packages (from missingno) (1.13.1)\n",
      "Requirement already satisfied: seaborn in c:\\users\\pegof\\anaconda3\\lib\\site-packages (from missingno) (0.13.2)\n",
      "Requirement already satisfied: contourpy>=1.0.1 in c:\\users\\pegof\\anaconda3\\lib\\site-packages (from matplotlib->missingno) (1.2.0)\n",
      "Requirement already satisfied: cycler>=0.10 in c:\\users\\pegof\\anaconda3\\lib\\site-packages (from matplotlib->missingno) (0.11.0)\n",
      "Requirement already satisfied: fonttools>=4.22.0 in c:\\users\\pegof\\anaconda3\\lib\\site-packages (from matplotlib->missingno) (4.51.0)\n",
      "Requirement already satisfied: kiwisolver>=1.3.1 in c:\\users\\pegof\\anaconda3\\lib\\site-packages (from matplotlib->missingno) (1.4.4)\n",
      "Requirement already satisfied: packaging>=20.0 in c:\\users\\pegof\\anaconda3\\lib\\site-packages (from matplotlib->missingno) (23.2)\n",
      "Requirement already satisfied: pillow>=8 in c:\\users\\pegof\\anaconda3\\lib\\site-packages (from matplotlib->missingno) (10.3.0)\n",
      "Requirement already satisfied: pyparsing>=2.3.1 in c:\\users\\pegof\\anaconda3\\lib\\site-packages (from matplotlib->missingno) (3.0.9)\n",
      "Requirement already satisfied: python-dateutil>=2.7 in c:\\users\\pegof\\anaconda3\\lib\\site-packages (from matplotlib->missingno) (2.9.0.post0)\n",
      "Requirement already satisfied: pandas>=1.2 in c:\\users\\pegof\\anaconda3\\lib\\site-packages (from seaborn->missingno) (2.2.2)\n",
      "Requirement already satisfied: pytz>=2020.1 in c:\\users\\pegof\\anaconda3\\lib\\site-packages (from pandas>=1.2->seaborn->missingno) (2024.1)\n",
      "Requirement already satisfied: tzdata>=2022.7 in c:\\users\\pegof\\anaconda3\\lib\\site-packages (from pandas>=1.2->seaborn->missingno) (2023.3)\n",
      "Requirement already satisfied: six>=1.5 in c:\\users\\pegof\\anaconda3\\lib\\site-packages (from python-dateutil>=2.7->matplotlib->missingno) (1.16.0)\n",
      "Note: you may need to restart the kernel to use updated packages.\n"
     ]
    }
   ],
   "source": [
    "pip install missingno"
   ]
  },
  {
   "cell_type": "code",
   "execution_count": 14,
   "id": "40a79110-a496-481f-8f02-5bcfe274fcb8",
   "metadata": {},
   "outputs": [
    {
     "name": "stdout",
     "output_type": "stream",
     "text": [
      "Note: you may need to restart the kernel to use updated packages.\n"
     ]
    }
   ],
   "source": [
    "pip install optuna -q"
   ]
  },
  {
   "cell_type": "code",
   "execution_count": 238,
   "id": "718dd238-36b4-4551-b10d-dae27d9a2c3d",
   "metadata": {},
   "outputs": [],
   "source": [
    "#импорт необходимых библиотек\n",
    "import pandas as pd\n",
    "import optuna\n",
    "import time\n",
    "import phik\n",
    "import shap\n",
    "\n",
    "import missingno as msno\n",
    "import numpy as np\n",
    "import matplotlib.pyplot as plt\n",
    "import seaborn as sns\n",
    "\n",
    "from sklearn.model_selection import train_test_split\n",
    "from sklearn.pipeline import Pipeline\n",
    "from sklearn.compose import ColumnTransformer\n",
    "from sklearn.preprocessing import OneHotEncoder, OrdinalEncoder, StandardScaler, MinMaxScaler, RobustScaler\n",
    "from sklearn.impute import SimpleImputer\n",
    "from sklearn.metrics import confusion_matrix, f1_score\n",
    "from sklearn.model_selection import train_test_split, cross_val_score\n",
    "from sklearn.tree import DecisionTreeClassifier\n",
    "from sklearn.model_selection import GridSearchCV\n",
    "from sklearn.model_selection import RandomizedSearchCV\n",
    "from sklearn.linear_model import LogisticRegression\n",
    "from sklearn.neighbors import KNeighborsClassifier\n",
    "from sklearn.tree import DecisionTreeClassifier\n",
    "from sklearn.svm import SVC\n",
    "from sklearn.feature_selection import SelectKBest, f_classif\n",
    "from sklearn.preprocessing import StandardScaler, PolynomialFeatures\n",
    "from sklearn.preprocessing import LabelEncoder\n",
    "from sklearn.datasets import make_classification\n",
    "from sklearn import svm\n",
    "from sklearn import model_selection, metrics\n",
    "from sklearn.metrics import make_scorer\n",
    "from sklearn.linear_model import LinearRegression\n",
    "from sklearn.tree import DecisionTreeRegressor\n",
    "\n",
    "\n",
    "from phik.report import plot_correlation_matrix\n",
    "from phik import report\n",
    "from sklearn.impute import SimpleImputer \n",
    "from sklearn.ensemble import RandomForestClassifier\n",
    "from sklearn.model_selection import train_test_split\n",
    "from sklearn.preprocessing import OneHotEncoder\n",
    "from sklearn.tree import DecisionTreeClassifier\n",
    "from optuna import distributions\n",
    "from optuna.integration import OptunaSearchCV\n",
    "from sklearn.model_selection import GridSearchCV\n",
    "from sklearn.dummy import DummyClassifier"
   ]
  },
  {
   "cell_type": "code",
   "execution_count": 17,
   "id": "8854a5a8-f804-42a7-929b-811585071f2b",
   "metadata": {},
   "outputs": [],
   "source": [
    "# задаём параметр random state\n",
    "RANDOM_STATE = 42  \n",
    "\n",
    "# задаем параметр разделения на тренировочныую и тестовую выборки\n",
    "TEST_SIZE = 0.25  "
   ]
  },
  {
   "cell_type": "markdown",
   "id": "db0e684f-54d0-433f-a04b-6f0b085ba7f7",
   "metadata": {},
   "source": [
    "<div class=\"alert alert-block alert-info\">\n",
    "Шаг 1. Загрузка данных\n",
    "</div>"
   ]
  },
  {
   "cell_type": "code",
   "execution_count": 241,
   "id": "973db507-237a-48ed-99f4-f041e7aa2a9e",
   "metadata": {},
   "outputs": [],
   "source": [
    "# задаём имена датасетам\n",
    "data_train = pd.read_csv('C:/Users/pegof/Jupiter/kaggle_startups_train_28062024.csv')\n",
    "data_test = pd.read_csv('C:/Users/pegof/Jupiter/kaggle_startups_test_28062024.csv')"
   ]
  },
  {
   "cell_type": "code",
   "execution_count": 243,
   "id": "d8cbad88-95bc-494b-9afa-447941bff5b5",
   "metadata": {},
   "outputs": [
    {
     "name": "stdout",
     "output_type": "stream",
     "text": [
      "<class 'pandas.core.frame.DataFrame'>\n",
      "RangeIndex: 52516 entries, 0 to 52515\n",
      "Data columns (total 13 columns):\n",
      " #   Column             Non-Null Count  Dtype  \n",
      "---  ------             --------------  -----  \n",
      " 0   name               52515 non-null  object \n",
      " 1   category_list      50051 non-null  object \n",
      " 2   funding_total_usd  42447 non-null  float64\n",
      " 3   status             52516 non-null  object \n",
      " 4   country_code       47014 non-null  object \n",
      " 5   state_code         45753 non-null  object \n",
      " 6   region             46157 non-null  object \n",
      " 7   city               46157 non-null  object \n",
      " 8   funding_rounds     52516 non-null  int64  \n",
      " 9   founded_at         52516 non-null  object \n",
      " 10  first_funding_at   52516 non-null  object \n",
      " 11  last_funding_at    52516 non-null  object \n",
      " 12  closed_at          4917 non-null   object \n",
      "dtypes: float64(1), int64(1), object(11)\n",
      "memory usage: 5.2+ MB\n"
     ]
    }
   ],
   "source": [
    "# ознакомимся с data_train\n",
    "data_train.info()"
   ]
  },
  {
   "cell_type": "code",
   "execution_count": 21,
   "id": "f11d212e-f300-4b8b-a318-1e6fdf824482",
   "metadata": {},
   "outputs": [
    {
     "data": {
      "text/html": [
       "<div>\n",
       "<style scoped>\n",
       "    .dataframe tbody tr th:only-of-type {\n",
       "        vertical-align: middle;\n",
       "    }\n",
       "\n",
       "    .dataframe tbody tr th {\n",
       "        vertical-align: top;\n",
       "    }\n",
       "\n",
       "    .dataframe thead th {\n",
       "        text-align: right;\n",
       "    }\n",
       "</style>\n",
       "<table border=\"1\" class=\"dataframe\">\n",
       "  <thead>\n",
       "    <tr style=\"text-align: right;\">\n",
       "      <th></th>\n",
       "      <th>name</th>\n",
       "      <th>category_list</th>\n",
       "      <th>funding_total_usd</th>\n",
       "      <th>status</th>\n",
       "      <th>country_code</th>\n",
       "      <th>state_code</th>\n",
       "      <th>region</th>\n",
       "      <th>city</th>\n",
       "      <th>funding_rounds</th>\n",
       "      <th>founded_at</th>\n",
       "      <th>first_funding_at</th>\n",
       "      <th>last_funding_at</th>\n",
       "      <th>closed_at</th>\n",
       "    </tr>\n",
       "  </thead>\n",
       "  <tbody>\n",
       "    <tr>\n",
       "      <th>46414</th>\n",
       "      <td>Vesocclude Medical</td>\n",
       "      <td>Biotechnology</td>\n",
       "      <td>1515615.0</td>\n",
       "      <td>operating</td>\n",
       "      <td>USA</td>\n",
       "      <td>NC</td>\n",
       "      <td>Raleigh</td>\n",
       "      <td>Raleigh</td>\n",
       "      <td>1</td>\n",
       "      <td>2005-01-01</td>\n",
       "      <td>2011-10-25</td>\n",
       "      <td>2011-10-25</td>\n",
       "      <td>NaN</td>\n",
       "    </tr>\n",
       "    <tr>\n",
       "      <th>2383</th>\n",
       "      <td>SK&amp;K Enterprises</td>\n",
       "      <td>Real Estate</td>\n",
       "      <td>NaN</td>\n",
       "      <td>operating</td>\n",
       "      <td>USA</td>\n",
       "      <td>TX</td>\n",
       "      <td>Houston</td>\n",
       "      <td>Galveston</td>\n",
       "      <td>1</td>\n",
       "      <td>2005-02-25</td>\n",
       "      <td>2015-07-05</td>\n",
       "      <td>2015-07-05</td>\n",
       "      <td>NaN</td>\n",
       "    </tr>\n",
       "    <tr>\n",
       "      <th>12691</th>\n",
       "      <td>gloStream</td>\n",
       "      <td>Health Care</td>\n",
       "      <td>19184620.0</td>\n",
       "      <td>operating</td>\n",
       "      <td>USA</td>\n",
       "      <td>MI</td>\n",
       "      <td>Detroit</td>\n",
       "      <td>Bloomfield Hills</td>\n",
       "      <td>5</td>\n",
       "      <td>2005-01-01</td>\n",
       "      <td>2009-05-28</td>\n",
       "      <td>2013-04-02</td>\n",
       "      <td>NaN</td>\n",
       "    </tr>\n",
       "    <tr>\n",
       "      <th>14295</th>\n",
       "      <td>What’s On Foodie</td>\n",
       "      <td>Classifieds|Events|Hospitality|Journalism|News...</td>\n",
       "      <td>20000.0</td>\n",
       "      <td>operating</td>\n",
       "      <td>GBR</td>\n",
       "      <td>NaN</td>\n",
       "      <td>NaN</td>\n",
       "      <td>NaN</td>\n",
       "      <td>1</td>\n",
       "      <td>2010-08-01</td>\n",
       "      <td>2011-07-01</td>\n",
       "      <td>2011-07-01</td>\n",
       "      <td>NaN</td>\n",
       "    </tr>\n",
       "    <tr>\n",
       "      <th>38822</th>\n",
       "      <td>Picwell</td>\n",
       "      <td>Internet</td>\n",
       "      <td>4018436.0</td>\n",
       "      <td>operating</td>\n",
       "      <td>USA</td>\n",
       "      <td>PA</td>\n",
       "      <td>Philadelphia</td>\n",
       "      <td>Philadelphia</td>\n",
       "      <td>1</td>\n",
       "      <td>2012-01-01</td>\n",
       "      <td>2015-07-01</td>\n",
       "      <td>2015-07-01</td>\n",
       "      <td>NaN</td>\n",
       "    </tr>\n",
       "    <tr>\n",
       "      <th>19135</th>\n",
       "      <td>Scholastica</td>\n",
       "      <td>Online Scheduling|Publishing|Web Hosting</td>\n",
       "      <td>510000.0</td>\n",
       "      <td>operating</td>\n",
       "      <td>USA</td>\n",
       "      <td>IL</td>\n",
       "      <td>Chicago</td>\n",
       "      <td>Chicago</td>\n",
       "      <td>1</td>\n",
       "      <td>2012-06-09</td>\n",
       "      <td>2014-05-07</td>\n",
       "      <td>2014-05-07</td>\n",
       "      <td>NaN</td>\n",
       "    </tr>\n",
       "    <tr>\n",
       "      <th>9630</th>\n",
       "      <td>Enprise Solutions</td>\n",
       "      <td>Software</td>\n",
       "      <td>1000000.0</td>\n",
       "      <td>operating</td>\n",
       "      <td>NZL</td>\n",
       "      <td>E7</td>\n",
       "      <td>NZL - Other</td>\n",
       "      <td>Avondale</td>\n",
       "      <td>1</td>\n",
       "      <td>2002-01-01</td>\n",
       "      <td>2006-02-16</td>\n",
       "      <td>2006-02-16</td>\n",
       "      <td>NaN</td>\n",
       "    </tr>\n",
       "    <tr>\n",
       "      <th>51538</th>\n",
       "      <td>Worksystems</td>\n",
       "      <td>Location Based Services|Nonprofits</td>\n",
       "      <td>8500000.0</td>\n",
       "      <td>operating</td>\n",
       "      <td>USA</td>\n",
       "      <td>OR</td>\n",
       "      <td>Portland, Oregon</td>\n",
       "      <td>Portland</td>\n",
       "      <td>1</td>\n",
       "      <td>2012-12-14</td>\n",
       "      <td>2014-10-16</td>\n",
       "      <td>2014-10-16</td>\n",
       "      <td>NaN</td>\n",
       "    </tr>\n",
       "    <tr>\n",
       "      <th>49268</th>\n",
       "      <td>Joopp</td>\n",
       "      <td>Advertising|App Marketing|Facebook Application...</td>\n",
       "      <td>20323.0</td>\n",
       "      <td>operating</td>\n",
       "      <td>NLD</td>\n",
       "      <td>11</td>\n",
       "      <td>The Hague</td>\n",
       "      <td>The Hague</td>\n",
       "      <td>1</td>\n",
       "      <td>2013-01-01</td>\n",
       "      <td>2013-10-13</td>\n",
       "      <td>2013-10-13</td>\n",
       "      <td>NaN</td>\n",
       "    </tr>\n",
       "    <tr>\n",
       "      <th>17990</th>\n",
       "      <td>Echodyne</td>\n",
       "      <td>Consumer Electronics</td>\n",
       "      <td>15000000.0</td>\n",
       "      <td>operating</td>\n",
       "      <td>USA</td>\n",
       "      <td>KS</td>\n",
       "      <td>KS - Other</td>\n",
       "      <td>Wa Keeney</td>\n",
       "      <td>1</td>\n",
       "      <td>2014-01-11</td>\n",
       "      <td>2014-12-19</td>\n",
       "      <td>2014-12-19</td>\n",
       "      <td>NaN</td>\n",
       "    </tr>\n",
       "  </tbody>\n",
       "</table>\n",
       "</div>"
      ],
      "text/plain": [
       "                     name                                      category_list  \\\n",
       "46414  Vesocclude Medical                                      Biotechnology   \n",
       "2383     SK&K Enterprises                                        Real Estate   \n",
       "12691           gloStream                                        Health Care   \n",
       "14295    What’s On Foodie  Classifieds|Events|Hospitality|Journalism|News...   \n",
       "38822             Picwell                                           Internet   \n",
       "19135         Scholastica           Online Scheduling|Publishing|Web Hosting   \n",
       "9630    Enprise Solutions                                           Software   \n",
       "51538         Worksystems                 Location Based Services|Nonprofits   \n",
       "49268               Joopp  Advertising|App Marketing|Facebook Application...   \n",
       "17990            Echodyne                               Consumer Electronics   \n",
       "\n",
       "       funding_total_usd     status country_code state_code            region  \\\n",
       "46414          1515615.0  operating          USA         NC           Raleigh   \n",
       "2383                 NaN  operating          USA         TX           Houston   \n",
       "12691         19184620.0  operating          USA         MI           Detroit   \n",
       "14295            20000.0  operating          GBR        NaN               NaN   \n",
       "38822          4018436.0  operating          USA         PA      Philadelphia   \n",
       "19135           510000.0  operating          USA         IL           Chicago   \n",
       "9630           1000000.0  operating          NZL         E7       NZL - Other   \n",
       "51538          8500000.0  operating          USA         OR  Portland, Oregon   \n",
       "49268            20323.0  operating          NLD         11         The Hague   \n",
       "17990         15000000.0  operating          USA         KS        KS - Other   \n",
       "\n",
       "                   city  funding_rounds  founded_at first_funding_at  \\\n",
       "46414           Raleigh               1  2005-01-01       2011-10-25   \n",
       "2383          Galveston               1  2005-02-25       2015-07-05   \n",
       "12691  Bloomfield Hills               5  2005-01-01       2009-05-28   \n",
       "14295               NaN               1  2010-08-01       2011-07-01   \n",
       "38822      Philadelphia               1  2012-01-01       2015-07-01   \n",
       "19135           Chicago               1  2012-06-09       2014-05-07   \n",
       "9630           Avondale               1  2002-01-01       2006-02-16   \n",
       "51538          Portland               1  2012-12-14       2014-10-16   \n",
       "49268         The Hague               1  2013-01-01       2013-10-13   \n",
       "17990         Wa Keeney               1  2014-01-11       2014-12-19   \n",
       "\n",
       "      last_funding_at closed_at  \n",
       "46414      2011-10-25       NaN  \n",
       "2383       2015-07-05       NaN  \n",
       "12691      2013-04-02       NaN  \n",
       "14295      2011-07-01       NaN  \n",
       "38822      2015-07-01       NaN  \n",
       "19135      2014-05-07       NaN  \n",
       "9630       2006-02-16       NaN  \n",
       "51538      2014-10-16       NaN  \n",
       "49268      2013-10-13       NaN  \n",
       "17990      2014-12-19       NaN  "
      ]
     },
     "execution_count": 21,
     "metadata": {},
     "output_type": "execute_result"
    }
   ],
   "source": [
    "data_train.sample(10)"
   ]
  },
  {
   "cell_type": "code",
   "execution_count": 22,
   "id": "4c341d7c-a130-405b-a624-2df050c8beaa",
   "metadata": {},
   "outputs": [
    {
     "data": {
      "text/html": [
       "<div>\n",
       "<style scoped>\n",
       "    .dataframe tbody tr th:only-of-type {\n",
       "        vertical-align: middle;\n",
       "    }\n",
       "\n",
       "    .dataframe tbody tr th {\n",
       "        vertical-align: top;\n",
       "    }\n",
       "\n",
       "    .dataframe thead th {\n",
       "        text-align: right;\n",
       "    }\n",
       "</style>\n",
       "<table border=\"1\" class=\"dataframe\">\n",
       "  <thead>\n",
       "    <tr style=\"text-align: right;\">\n",
       "      <th></th>\n",
       "      <th>funding_total_usd</th>\n",
       "      <th>funding_rounds</th>\n",
       "    </tr>\n",
       "  </thead>\n",
       "  <tbody>\n",
       "    <tr>\n",
       "      <th>count</th>\n",
       "      <td>4.244700e+04</td>\n",
       "      <td>52516.000000</td>\n",
       "    </tr>\n",
       "    <tr>\n",
       "      <th>mean</th>\n",
       "      <td>1.824748e+07</td>\n",
       "      <td>1.740670</td>\n",
       "    </tr>\n",
       "    <tr>\n",
       "      <th>std</th>\n",
       "      <td>1.871173e+08</td>\n",
       "      <td>1.374522</td>\n",
       "    </tr>\n",
       "    <tr>\n",
       "      <th>min</th>\n",
       "      <td>1.000000e+00</td>\n",
       "      <td>1.000000</td>\n",
       "    </tr>\n",
       "    <tr>\n",
       "      <th>25%</th>\n",
       "      <td>3.360275e+05</td>\n",
       "      <td>1.000000</td>\n",
       "    </tr>\n",
       "    <tr>\n",
       "      <th>50%</th>\n",
       "      <td>2.000000e+06</td>\n",
       "      <td>1.000000</td>\n",
       "    </tr>\n",
       "    <tr>\n",
       "      <th>75%</th>\n",
       "      <td>1.000000e+07</td>\n",
       "      <td>2.000000</td>\n",
       "    </tr>\n",
       "    <tr>\n",
       "      <th>max</th>\n",
       "      <td>3.007950e+10</td>\n",
       "      <td>19.000000</td>\n",
       "    </tr>\n",
       "  </tbody>\n",
       "</table>\n",
       "</div>"
      ],
      "text/plain": [
       "       funding_total_usd  funding_rounds\n",
       "count       4.244700e+04    52516.000000\n",
       "mean        1.824748e+07        1.740670\n",
       "std         1.871173e+08        1.374522\n",
       "min         1.000000e+00        1.000000\n",
       "25%         3.360275e+05        1.000000\n",
       "50%         2.000000e+06        1.000000\n",
       "75%         1.000000e+07        2.000000\n",
       "max         3.007950e+10       19.000000"
      ]
     },
     "execution_count": 22,
     "metadata": {},
     "output_type": "execute_result"
    }
   ],
   "source": [
    "data_train.describe()"
   ]
  },
  {
   "cell_type": "code",
   "execution_count": 168,
   "id": "2ca2ce64-b3d9-4a65-a831-cddd3befeadc",
   "metadata": {},
   "outputs": [
    {
     "name": "stdout",
     "output_type": "stream",
     "text": [
      "<class 'pandas.core.frame.DataFrame'>\n",
      "RangeIndex: 13125 entries, 0 to 13124\n",
      "Data columns (total 11 columns):\n",
      " #   Column             Non-Null Count  Dtype  \n",
      "---  ------             --------------  -----  \n",
      " 0   name               13125 non-null  object \n",
      " 1   category_list      12534 non-null  object \n",
      " 2   funding_total_usd  10547 non-null  float64\n",
      " 3   country_code       11743 non-null  object \n",
      " 4   state_code         11430 non-null  object \n",
      " 5   region             11536 non-null  object \n",
      " 6   city               11538 non-null  object \n",
      " 7   funding_rounds     13125 non-null  int64  \n",
      " 8   first_funding_at   13125 non-null  object \n",
      " 9   last_funding_at    13125 non-null  object \n",
      " 10  lifetime           13125 non-null  int64  \n",
      "dtypes: float64(1), int64(2), object(8)\n",
      "memory usage: 1.1+ MB\n"
     ]
    }
   ],
   "source": [
    "# ознакомимся с data_test\n",
    "data_test.info()"
   ]
  },
  {
   "cell_type": "code",
   "execution_count": 170,
   "id": "ab449a82-d9d8-4575-8df7-adcabecc2b4f",
   "metadata": {},
   "outputs": [
    {
     "data": {
      "text/html": [
       "<div>\n",
       "<style scoped>\n",
       "    .dataframe tbody tr th:only-of-type {\n",
       "        vertical-align: middle;\n",
       "    }\n",
       "\n",
       "    .dataframe tbody tr th {\n",
       "        vertical-align: top;\n",
       "    }\n",
       "\n",
       "    .dataframe thead th {\n",
       "        text-align: right;\n",
       "    }\n",
       "</style>\n",
       "<table border=\"1\" class=\"dataframe\">\n",
       "  <thead>\n",
       "    <tr style=\"text-align: right;\">\n",
       "      <th></th>\n",
       "      <th>name</th>\n",
       "      <th>category_list</th>\n",
       "      <th>funding_total_usd</th>\n",
       "      <th>country_code</th>\n",
       "      <th>state_code</th>\n",
       "      <th>region</th>\n",
       "      <th>city</th>\n",
       "      <th>funding_rounds</th>\n",
       "      <th>first_funding_at</th>\n",
       "      <th>last_funding_at</th>\n",
       "      <th>lifetime</th>\n",
       "    </tr>\n",
       "  </thead>\n",
       "  <tbody>\n",
       "    <tr>\n",
       "      <th>6925</th>\n",
       "      <td>HectoPlant</td>\n",
       "      <td>Energy</td>\n",
       "      <td>NaN</td>\n",
       "      <td>USA</td>\n",
       "      <td>TN</td>\n",
       "      <td>TN - Other</td>\n",
       "      <td>Leoma</td>\n",
       "      <td>1</td>\n",
       "      <td>2015-03-24</td>\n",
       "      <td>2015-03-24</td>\n",
       "      <td>1023</td>\n",
       "    </tr>\n",
       "    <tr>\n",
       "      <th>5761</th>\n",
       "      <td>Risk Ident</td>\n",
       "      <td>Fraud Detection</td>\n",
       "      <td>2,300,000.00</td>\n",
       "      <td>DEU</td>\n",
       "      <td>4</td>\n",
       "      <td>Hamburg</td>\n",
       "      <td>Hamburg</td>\n",
       "      <td>2</td>\n",
       "      <td>2012-06-01</td>\n",
       "      <td>2013-03-01</td>\n",
       "      <td>2040</td>\n",
       "    </tr>\n",
       "    <tr>\n",
       "      <th>11668</th>\n",
       "      <td>Auditude</td>\n",
       "      <td>Advertising|Monetization|Video</td>\n",
       "      <td>30,426,151.00</td>\n",
       "      <td>USA</td>\n",
       "      <td>CA</td>\n",
       "      <td>SF Bay Area</td>\n",
       "      <td>Palo Alto</td>\n",
       "      <td>4</td>\n",
       "      <td>2007-12-05</td>\n",
       "      <td>2011-01-24</td>\n",
       "      <td>6940</td>\n",
       "    </tr>\n",
       "    <tr>\n",
       "      <th>11263</th>\n",
       "      <td>TritonWear</td>\n",
       "      <td>Sports|Technology|Wearables</td>\n",
       "      <td>1,000,000.00</td>\n",
       "      <td>CAN</td>\n",
       "      <td>ON</td>\n",
       "      <td>Toronto</td>\n",
       "      <td>Kitchener</td>\n",
       "      <td>1</td>\n",
       "      <td>2015-01-15</td>\n",
       "      <td>2015-01-15</td>\n",
       "      <td>1553</td>\n",
       "    </tr>\n",
       "    <tr>\n",
       "      <th>10252</th>\n",
       "      <td>TrelliSoft</td>\n",
       "      <td>Computers|Software|Storage</td>\n",
       "      <td>NaN</td>\n",
       "      <td>USA</td>\n",
       "      <td>IL</td>\n",
       "      <td>Chicago</td>\n",
       "      <td>Glen Ellyn</td>\n",
       "      <td>1</td>\n",
       "      <td>2002-03-11</td>\n",
       "      <td>2002-03-11</td>\n",
       "      <td>6697</td>\n",
       "    </tr>\n",
       "    <tr>\n",
       "      <th>6100</th>\n",
       "      <td>Cerevo</td>\n",
       "      <td>Hardware + Software|Mobile|Photo Sharing|Wireless</td>\n",
       "      <td>44,525.00</td>\n",
       "      <td>JPN</td>\n",
       "      <td>40</td>\n",
       "      <td>Tokyo</td>\n",
       "      <td>Tokyo</td>\n",
       "      <td>2</td>\n",
       "      <td>2009-01-15</td>\n",
       "      <td>2011-02-18</td>\n",
       "      <td>3553</td>\n",
       "    </tr>\n",
       "    <tr>\n",
       "      <th>6979</th>\n",
       "      <td>Stefan's Head</td>\n",
       "      <td>E-Commerce|Fashion|Mobile Commerce</td>\n",
       "      <td>110,000.00</td>\n",
       "      <td>NaN</td>\n",
       "      <td>NaN</td>\n",
       "      <td>NaN</td>\n",
       "      <td>NaN</td>\n",
       "      <td>1</td>\n",
       "      <td>2015-10-01</td>\n",
       "      <td>2015-10-01</td>\n",
       "      <td>1037</td>\n",
       "    </tr>\n",
       "    <tr>\n",
       "      <th>8107</th>\n",
       "      <td>HCI</td>\n",
       "      <td>Shipping|Software</td>\n",
       "      <td>NaN</td>\n",
       "      <td>USA</td>\n",
       "      <td>FL</td>\n",
       "      <td>Tampa</td>\n",
       "      <td>Tampa</td>\n",
       "      <td>1</td>\n",
       "      <td>2013-11-14</td>\n",
       "      <td>2013-11-14</td>\n",
       "      <td>3653</td>\n",
       "    </tr>\n",
       "    <tr>\n",
       "      <th>10851</th>\n",
       "      <td>Lekan.com</td>\n",
       "      <td>Video</td>\n",
       "      <td>NaN</td>\n",
       "      <td>CHN</td>\n",
       "      <td>22</td>\n",
       "      <td>Beijing</td>\n",
       "      <td>Beijing</td>\n",
       "      <td>1</td>\n",
       "      <td>2011-06-01</td>\n",
       "      <td>2011-06-01</td>\n",
       "      <td>4383</td>\n",
       "    </tr>\n",
       "    <tr>\n",
       "      <th>8587</th>\n",
       "      <td>Lehigh Technologies</td>\n",
       "      <td>Advanced Materials|Clean Technology|Specialty ...</td>\n",
       "      <td>88,000,000.00</td>\n",
       "      <td>USA</td>\n",
       "      <td>GA</td>\n",
       "      <td>Atlanta</td>\n",
       "      <td>Tucker</td>\n",
       "      <td>6</td>\n",
       "      <td>2007-01-30</td>\n",
       "      <td>2014-09-03</td>\n",
       "      <td>5479</td>\n",
       "    </tr>\n",
       "  </tbody>\n",
       "</table>\n",
       "</div>"
      ],
      "text/plain": [
       "                      name                                      category_list  \\\n",
       "6925            HectoPlant                                             Energy   \n",
       "5761            Risk Ident                                    Fraud Detection   \n",
       "11668             Auditude                     Advertising|Monetization|Video   \n",
       "11263           TritonWear                        Sports|Technology|Wearables   \n",
       "10252           TrelliSoft                         Computers|Software|Storage   \n",
       "6100                Cerevo  Hardware + Software|Mobile|Photo Sharing|Wireless   \n",
       "6979         Stefan's Head                 E-Commerce|Fashion|Mobile Commerce   \n",
       "8107                   HCI                                  Shipping|Software   \n",
       "10851            Lekan.com                                              Video   \n",
       "8587   Lehigh Technologies  Advanced Materials|Clean Technology|Specialty ...   \n",
       "\n",
       "       funding_total_usd country_code state_code       region        city  \\\n",
       "6925                 NaN          USA         TN   TN - Other       Leoma   \n",
       "5761        2,300,000.00          DEU          4      Hamburg     Hamburg   \n",
       "11668      30,426,151.00          USA         CA  SF Bay Area   Palo Alto   \n",
       "11263       1,000,000.00          CAN         ON      Toronto   Kitchener   \n",
       "10252                NaN          USA         IL      Chicago  Glen Ellyn   \n",
       "6100           44,525.00          JPN         40        Tokyo       Tokyo   \n",
       "6979          110,000.00          NaN        NaN          NaN         NaN   \n",
       "8107                 NaN          USA         FL        Tampa       Tampa   \n",
       "10851                NaN          CHN         22      Beijing     Beijing   \n",
       "8587       88,000,000.00          USA         GA      Atlanta      Tucker   \n",
       "\n",
       "       funding_rounds first_funding_at last_funding_at  lifetime  \n",
       "6925                1       2015-03-24      2015-03-24      1023  \n",
       "5761                2       2012-06-01      2013-03-01      2040  \n",
       "11668               4       2007-12-05      2011-01-24      6940  \n",
       "11263               1       2015-01-15      2015-01-15      1553  \n",
       "10252               1       2002-03-11      2002-03-11      6697  \n",
       "6100                2       2009-01-15      2011-02-18      3553  \n",
       "6979                1       2015-10-01      2015-10-01      1037  \n",
       "8107                1       2013-11-14      2013-11-14      3653  \n",
       "10851               1       2011-06-01      2011-06-01      4383  \n",
       "8587                6       2007-01-30      2014-09-03      5479  "
      ]
     },
     "execution_count": 170,
     "metadata": {},
     "output_type": "execute_result"
    }
   ],
   "source": [
    "data_test.sample(10)"
   ]
  },
  {
   "cell_type": "markdown",
   "id": "02003f6b-9450-4087-b833-e9e72fd6d077",
   "metadata": {},
   "source": [
    "ВЫВОД  \n",
    "\n",
    "Выведенные рандомные строки для обоих датасетов позволяют считать, что данные загружены верно и значения корректно распределены по столбцам. \n",
    "Cтолбцы с данными корректно протипизированы. Есть исключение - 'closed_at' в data_train. Далее, данный момент будет  исправлен. Отметим, что столбцы с неверными десятичными разделителями не наблюдаются. агах."
   ]
  },
  {
   "cell_type": "markdown",
   "id": "57c3aa64-3236-434b-9a4d-db91350e429a",
   "metadata": {},
   "source": [
    "Датафрейм data_train включает 52 514 строк и 13 столбцов; есть пропуски.      \n",
    "Датафрейм data_test  включает 13 125 строк и 12 столбцов; также есть пропуски.  "
   ]
  },
  {
   "cell_type": "markdown",
   "id": "b7ca0da0-bc01-473d-ac72-5a1fd481b2ec",
   "metadata": {},
   "source": [
    "В data_train есть колонка 'closed_at' а в data_test она отсутствует. Но добавлена 'lifetime'. Указанные признаки тренировочных и тестовых данных будут приведены к единообразию в последующих шагах.  "
   ]
  },
  {
   "cell_type": "markdown",
   "id": "7a9511f9-796a-47bb-a61d-137bdf4837ad",
   "metadata": {},
   "source": [
    "Обратим внимание на неправдоподобные суммы инвестирования min и max. К ним потребуется вернуться на следующих этапах исследования для получения более коррекатных данных."
   ]
  },
  {
   "cell_type": "markdown",
   "id": "b2f1c912-0253-4e94-923d-bfa35b3e9cc4",
   "metadata": {},
   "source": [
    "<div class=\"alert alert-block alert-info\">\n",
    "Шаг 2. Предобработка данных\n",
    "</div>"
   ]
  },
  {
   "cell_type": "code",
   "execution_count": 30,
   "id": "f48f9917-ff21-4d8a-994f-31541b971bea",
   "metadata": {},
   "outputs": [],
   "source": [
    "# зафиксируем первоначальные габариты датасетов в переменных\n",
    "data_train_shape = data_train.shape[0]\n",
    "data_test_shape = data_test.shape[0]"
   ]
  },
  {
   "cell_type": "markdown",
   "id": "178e64a2-0229-47bb-8f69-5b6dc0d21b86",
   "metadata": {},
   "source": [
    "<div class=\"alert alert-block alert-info\">\n",
    "Шаг 2.1. Наименования столбцов\n",
    "</div>"
   ]
  },
  {
   "cell_type": "markdown",
   "id": "fb7ac5fb-3fed-4bae-9147-43e590aff4df",
   "metadata": {},
   "source": [
    "Наименования колонок соответствуют общепринятым стандартам. Оставляем без изменений"
   ]
  },
  {
   "cell_type": "markdown",
   "id": "71ce2207-9f12-4488-bbda-316bcd9f568a",
   "metadata": {},
   "source": [
    "<div class=\"alert alert-block alert-info\">\n",
    "Шаг 2.2. Пропуски\n",
    "</div>"
   ]
  },
  {
   "cell_type": "markdown",
   "id": "0fffb7b8-819a-479e-8248-46d3f2b470b3",
   "metadata": {},
   "source": [
    "На предыдущем этапе были выявлены пропуски в категориальных и количественных данных.\n",
    "Рассмотрим абсолютные и относительные показатели по пропускам для обоих датасетов."
   ]
  },
  {
   "cell_type": "code",
   "execution_count": 35,
   "id": "49a4738f-ae0b-495d-b9dd-123dc917e7ab",
   "metadata": {},
   "outputs": [
    {
     "data": {
      "text/plain": [
       "name                     1\n",
       "category_list         2465\n",
       "funding_total_usd    10069\n",
       "status                   0\n",
       "country_code          5502\n",
       "state_code            6763\n",
       "region                6359\n",
       "city                  6359\n",
       "funding_rounds           0\n",
       "founded_at               0\n",
       "first_funding_at         0\n",
       "last_funding_at          0\n",
       "closed_at            47599\n",
       "dtype: int64"
      ]
     },
     "execution_count": 35,
     "metadata": {},
     "output_type": "execute_result"
    }
   ],
   "source": [
    "# количество в тренировочных данных\n",
    "data_train.isnull().sum()"
   ]
  },
  {
   "cell_type": "code",
   "execution_count": 36,
   "id": "156d4a76-9d29-4670-8d2a-a233b96d9c77",
   "metadata": {},
   "outputs": [
    {
     "data": {
      "text/plain": [
       "name                  0.001904\n",
       "category_list         4.693808\n",
       "funding_total_usd    19.173204\n",
       "status                0.000000\n",
       "country_code         10.476807\n",
       "state_code           12.877980\n",
       "region               12.108691\n",
       "city                 12.108691\n",
       "funding_rounds        0.000000\n",
       "founded_at            0.000000\n",
       "first_funding_at      0.000000\n",
       "last_funding_at       0.000000\n",
       "closed_at            90.637139\n",
       "dtype: float64"
      ]
     },
     "execution_count": 36,
     "metadata": {},
     "output_type": "execute_result"
    }
   ],
   "source": [
    "# процент по столбцам в тренировочных данных\n",
    "data_train.isnull().sum() * 100 / len(data_train)"
   ]
  },
  {
   "cell_type": "code",
   "execution_count": 172,
   "id": "5c604d51-b859-4916-b04e-aae75f637c22",
   "metadata": {},
   "outputs": [
    {
     "data": {
      "text/plain": [
       "name                    0\n",
       "category_list         591\n",
       "funding_total_usd    2578\n",
       "country_code         1382\n",
       "state_code           1695\n",
       "region               1589\n",
       "city                 1587\n",
       "funding_rounds          0\n",
       "first_funding_at        0\n",
       "last_funding_at         0\n",
       "lifetime                0\n",
       "dtype: int64"
      ]
     },
     "execution_count": 172,
     "metadata": {},
     "output_type": "execute_result"
    }
   ],
   "source": [
    "# количество в тестовых данных\n",
    "data_test.isnull().sum()"
   ]
  },
  {
   "cell_type": "code",
   "execution_count": 38,
   "id": "9ce975bc-e737-47e9-8521-74b643aec80e",
   "metadata": {},
   "outputs": [
    {
     "data": {
      "text/plain": [
       "name                  0.000000\n",
       "category_list         4.502857\n",
       "funding_total_usd    19.641905\n",
       "country_code         10.529524\n",
       "state_code           12.914286\n",
       "region               12.106667\n",
       "city                 12.091429\n",
       "funding_rounds        0.000000\n",
       "first_funding_at      0.000000\n",
       "last_funding_at       0.000000\n",
       "lifetime              0.000000\n",
       "dtype: float64"
      ]
     },
     "execution_count": 38,
     "metadata": {},
     "output_type": "execute_result"
    }
   ],
   "source": [
    "# процент по столбцам в тестовых данных\n",
    "data_test.isnull().sum() * 100 / len(data_test)"
   ]
  },
  {
   "cell_type": "code",
   "execution_count": 39,
   "id": "f2d215dd-2552-4ecf-9938-6a82b14b439b",
   "metadata": {},
   "outputs": [
    {
     "data": {
      "image/png": "[encoded data removed]",
      "text/plain": [
       "<Figure size 2500x1000 with 2 Axes>"
      ]
     },
     "metadata": {},
     "output_type": "display_data"
    }
   ],
   "source": [
    "# визуализация пропусков для data_train\n",
    "msno.matrix(data_train);"
   ]
  },
  {
   "cell_type": "code",
   "execution_count": 174,
   "id": "d7dee803-1294-42ff-9210-44f4c0ed0ab9",
   "metadata": {},
   "outputs": [
    {
     "data": {
      "image/png": "[encoded data removed]",
      "text/plain": [
       "<Figure size 2500x1000 with 2 Axes>"
      ]
     },
     "metadata": {},
     "output_type": "display_data"
    }
   ],
   "source": [
    "# визуализация пропусков для data_test\n",
    "msno.matrix(data_test);"
   ]
  },
  {
   "cell_type": "markdown",
   "id": "bdb1918c-e701-49a9-90e4-8c45d0c7d919",
   "metadata": {},
   "source": [
    "Обращает на себя внимание взаимосвязь данных по локации стартапа. Country, state, region, city (10-13% соответствующих столбцов). При отсутствии более общего \"географического\" признака, отсутствуют и более мелкие уровни. \n",
    "\n",
    "Это существенный объем признаков, его требуется заменить неопределенными значениями, не удаляя.\n",
    "\n",
    "Отсутствие значения funding_total_usd не значит, что стартап не был профиансирован. В funding_rounds нет пропусков и нет значений 0. Поэтому проведем замену пропусков медианным значением.  \n",
    "\n",
    "В пропуски для closed_at поставим дату выгрузки датасета - \"2018-01-01\""
   ]
  },
  {
   "cell_type": "code",
   "execution_count": 42,
   "id": "b7e1b94b-3730-4efe-ac9f-90d486594b96",
   "metadata": {},
   "outputs": [],
   "source": [
    "# выполним замену пропусков для data_train\n",
    "data_train['name'] = data_train['name'].fillna('no_name')\n",
    "data_train['category_list'] = data_train['category_list'].fillna('no_category')\n",
    "data_train['country_code'] = data_train['country_code'].fillna('no_country')\n",
    "data_train['state_code'] = data_train['state_code'].fillna('no_state')\n",
    "data_train['region'] = data_train['region'].fillna('no_region')\n",
    "data_train['city'] = data_train['city'].fillna('no_city')\n",
    "data_train['closed_at'] = data_train['closed_at'].fillna('2018-01-01')\n",
    "\n",
    "# выполним замену пропусков для data_test\n",
    "data_test['category_list'] = data_test['category_list'].fillna('no_category')\n",
    "data_test['country_code'] = data_test['country_code'].fillna('no_country')\n",
    "data_test['state_code'] = data_test['state_code'].fillna('no_state')\n",
    "data_test['region'] = data_test['region'].fillna('no_region')\n",
    "data_test['city'] = data_test['city'].fillna('no_city')"
   ]
  },
  {
   "cell_type": "code",
   "execution_count": 43,
   "id": "68fd5799-91ac-48c1-ac94-f45206d90373",
   "metadata": {},
   "outputs": [
    {
     "name": "stderr",
     "output_type": "stream",
     "text": [
      "C:\\Users\\pegof\\AppData\\Local\\Temp\\ipykernel_10136\\3759091697.py:3: FutureWarning: A value is trying to be set on a copy of a DataFrame or Series through chained assignment using an inplace method.\n",
      "The behavior will change in pandas 3.0. This inplace method will never work because the intermediate object on which we are setting values always behaves as a copy.\n",
      "\n",
      "For example, when doing 'df[col].method(value, inplace=True)', try using 'df.method({col: value}, inplace=True)' or df[col] = df[col].method(value) instead, to perform the operation inplace on the original object.\n",
      "\n",
      "\n",
      "  data_train['funding_total_usd'].fillna(median_1, inplace=True)\n"
     ]
    }
   ],
   "source": [
    "# замена пропусков funding_total_usd для data_train\n",
    "median_1 = data_train['funding_total_usd'].median()\n",
    "data_train['funding_total_usd'].fillna(median_1, inplace=True)"
   ]
  },
  {
   "cell_type": "code",
   "execution_count": 44,
   "id": "7d61122e-655a-471f-b450-d263f56dd8d9",
   "metadata": {},
   "outputs": [
    {
     "name": "stderr",
     "output_type": "stream",
     "text": [
      "C:\\Users\\pegof\\AppData\\Local\\Temp\\ipykernel_10136\\2736070368.py:3: FutureWarning: A value is trying to be set on a copy of a DataFrame or Series through chained assignment using an inplace method.\n",
      "The behavior will change in pandas 3.0. This inplace method will never work because the intermediate object on which we are setting values always behaves as a copy.\n",
      "\n",
      "For example, when doing 'df[col].method(value, inplace=True)', try using 'df.method({col: value}, inplace=True)' or df[col] = df[col].method(value) instead, to perform the operation inplace on the original object.\n",
      "\n",
      "\n",
      "  data_test['funding_total_usd'].fillna(median_2, inplace=True)\n"
     ]
    }
   ],
   "source": [
    "# замена пропусков funding_total_usd для data_test\n",
    "median_2 = data_test['funding_total_usd'].median()\n",
    "data_test['funding_total_usd'].fillna(median_2, inplace=True)"
   ]
  },
  {
   "cell_type": "code",
   "execution_count": 45,
   "id": "dbbbae63-ffd1-4aea-ad15-de6b0e7e1e96",
   "metadata": {},
   "outputs": [
    {
     "data": {
      "text/plain": [
       "name                 0\n",
       "category_list        0\n",
       "funding_total_usd    0\n",
       "status               0\n",
       "country_code         0\n",
       "state_code           0\n",
       "region               0\n",
       "city                 0\n",
       "funding_rounds       0\n",
       "founded_at           0\n",
       "first_funding_at     0\n",
       "last_funding_at      0\n",
       "closed_at            0\n",
       "dtype: int64"
      ]
     },
     "execution_count": 45,
     "metadata": {},
     "output_type": "execute_result"
    }
   ],
   "source": [
    "data_train.isnull().sum()"
   ]
  },
  {
   "cell_type": "code",
   "execution_count": 46,
   "id": "c7c10e09-6523-4f92-9259-3217601ba76c",
   "metadata": {},
   "outputs": [
    {
     "data": {
      "text/plain": [
       "name                 0\n",
       "category_list        0\n",
       "funding_total_usd    0\n",
       "country_code         0\n",
       "state_code           0\n",
       "region               0\n",
       "city                 0\n",
       "funding_rounds       0\n",
       "first_funding_at     0\n",
       "last_funding_at      0\n",
       "lifetime             0\n",
       "dtype: int64"
      ]
     },
     "execution_count": 46,
     "metadata": {},
     "output_type": "execute_result"
    }
   ],
   "source": [
    "data_test.isnull().sum()"
   ]
  },
  {
   "cell_type": "markdown",
   "id": "4755c17e-3532-4dda-b4a5-47b5cb2fe84b",
   "metadata": {},
   "source": [
    "Пропуски в обоих датасетах заполнены, в соответствии со схемой, приведенной выше."
   ]
  },
  {
   "cell_type": "markdown",
   "id": "7a4d7721-bd80-4eda-9f6a-c8a15f51770c",
   "metadata": {},
   "source": [
    "<div class=\"alert alert-block alert-info\">\n",
    "Шаг 2.3. Типы данных\n",
    "</div>"
   ]
  },
  {
   "cell_type": "markdown",
   "id": "30bfc6a6-f8cc-4c5b-aba3-8e1f24fa340c",
   "metadata": {},
   "source": [
    "Типы данных выглядят корректными. Единственный случай, требующий корректировки - смена категориального типа на \"datatime\" для \"closed_at\"."
   ]
  },
  {
   "cell_type": "code",
   "execution_count": 50,
   "id": "29e702dc-7441-4e2b-b8d1-ce3996c24726",
   "metadata": {},
   "outputs": [],
   "source": [
    "# исправим тип данных \"closed_at\"\n",
    "data_train['closed_at'] = pd.to_datetime(data_train['closed_at'], format='%Y-%m-%d')"
   ]
  },
  {
   "cell_type": "code",
   "execution_count": 51,
   "id": "ff47a3ed-6534-49fc-886a-3ceb4f5bccee",
   "metadata": {},
   "outputs": [
    {
     "name": "stdout",
     "output_type": "stream",
     "text": [
      "<class 'pandas.core.frame.DataFrame'>\n",
      "RangeIndex: 52516 entries, 0 to 52515\n",
      "Data columns (total 13 columns):\n",
      " #   Column             Non-Null Count  Dtype         \n",
      "---  ------             --------------  -----         \n",
      " 0   name               52516 non-null  object        \n",
      " 1   category_list      52516 non-null  object        \n",
      " 2   funding_total_usd  52516 non-null  float64       \n",
      " 3   status             52516 non-null  object        \n",
      " 4   country_code       52516 non-null  object        \n",
      " 5   state_code         52516 non-null  object        \n",
      " 6   region             52516 non-null  object        \n",
      " 7   city               52516 non-null  object        \n",
      " 8   funding_rounds     52516 non-null  int64         \n",
      " 9   founded_at         52516 non-null  object        \n",
      " 10  first_funding_at   52516 non-null  object        \n",
      " 11  last_funding_at    52516 non-null  object        \n",
      " 12  closed_at          52516 non-null  datetime64[ns]\n",
      "dtypes: datetime64[ns](1), float64(1), int64(1), object(10)\n",
      "memory usage: 5.2+ MB\n"
     ]
    }
   ],
   "source": [
    "data_train.info()"
   ]
  },
  {
   "cell_type": "markdown",
   "id": "ac216067-630b-4056-8e0b-28cec75df896",
   "metadata": {},
   "source": [
    "Тип данных отработан"
   ]
  },
  {
   "cell_type": "markdown",
   "id": "1738e903-0a37-441c-846c-0c08ab87b79b",
   "metadata": {},
   "source": [
    "<div class=\"alert alert-block alert-info\">\n",
    "Шаг 2.4. Дубликаты\n",
    "</div>"
   ]
  },
  {
   "cell_type": "code",
   "execution_count": 54,
   "id": "35ded3eb-4b0d-45de-ba86-34042d6620ea",
   "metadata": {},
   "outputs": [
    {
     "name": "stdout",
     "output_type": "stream",
     "text": [
      "Дубликаты в data_train 10\n",
      "Процент от общего числа: 0.02 %\n"
     ]
    }
   ],
   "source": [
    "# оценим % дубликатов для тренировочной выборки\n",
    "data_train.set_index('name', inplace = True)\n",
    "print(f'Дубликаты в data_train', data_train.duplicated().sum())\n",
    "print(f'Процент от общего числа:', round((data_train.duplicated().sum() / data_train_shape), 4) * 100, f'%')"
   ]
  },
  {
   "cell_type": "code",
   "execution_count": 154,
   "id": "3127f400-5c78-45b3-b172-c5174fc02572",
   "metadata": {},
   "outputs": [],
   "source": [
    "# удалим найденные дубликаты\n",
    "data_train = data_train.drop_duplicates()\n",
    "data_train = data_train.reset_index()"
   ]
  },
  {
   "cell_type": "code",
   "execution_count": 56,
   "id": "9da1a0b2-fdff-417c-9e94-2cce24c3b07e",
   "metadata": {},
   "outputs": [
    {
     "name": "stdout",
     "output_type": "stream",
     "text": [
      "Дубликаты в data_test 1\n",
      "Процент от общего числа: 0.01 %\n"
     ]
    }
   ],
   "source": [
    "# оценим % дубликатов для тестовой выборки\n",
    "data_test.set_index('name', inplace = True)\n",
    "print(f'Дубликаты в data_test', data_test.duplicated().sum())\n",
    "print(f'Процент от общего числа:', round((data_test.duplicated().sum() / data_test_shape), 4) * 100, f'%')"
   ]
  },
  {
   "cell_type": "markdown",
   "id": "6fe1f9a1-b337-4628-92dc-c83772a423a0",
   "metadata": {},
   "source": [
    "Количество дубликатов некритично, оставим их без изменений."
   ]
  },
  {
   "cell_type": "markdown",
   "id": "8be53a93-e885-4eca-916c-57bdea52a39d",
   "metadata": {},
   "source": [
    "Дубликаты отработаны"
   ]
  },
  {
   "cell_type": "markdown",
   "id": "37769f39-1fd5-4555-b431-b4f3ccc51a15",
   "metadata": {},
   "source": [
    "<div class=\"alert alert-block alert-info\">\n",
    "Шаг 2.5. Добавление новых столбцов\n",
    "</div>"
   ]
  },
  {
   "cell_type": "markdown",
   "id": "6ba443fe-e857-4e6c-b45a-0503ed19e424",
   "metadata": {},
   "source": [
    "Оценим количество уникальных значений в тренировочном и тестовом датасетах."
   ]
  },
  {
   "cell_type": "code",
   "execution_count": 61,
   "id": "cc87d509-196f-4c4b-ab0b-8cce9ff08c50",
   "metadata": {},
   "outputs": [
    {
     "data": {
      "text/plain": [
       "name                 52506\n",
       "category_list        22106\n",
       "funding_total_usd    15551\n",
       "status                   2\n",
       "country_code           135\n",
       "state_code             301\n",
       "region                1037\n",
       "city                  4478\n",
       "funding_rounds          19\n",
       "founded_at            5402\n",
       "first_funding_at      4603\n",
       "last_funding_at       4305\n",
       "closed_at             3009\n",
       "dtype: int64"
      ]
     },
     "execution_count": 61,
     "metadata": {},
     "output_type": "execute_result"
    }
   ],
   "source": [
    "data_train.nunique()"
   ]
  },
  {
   "cell_type": "code",
   "execution_count": 156,
   "id": "026c6209-9cca-476e-a1d9-f7c165427d52",
   "metadata": {},
   "outputs": [
    {
     "data": {
      "text/plain": [
       "category_list        6207\n",
       "funding_total_usd    4549\n",
       "country_code           97\n",
       "state_code            236\n",
       "region                689\n",
       "city                 2118\n",
       "funding_rounds         15\n",
       "first_funding_at     3299\n",
       "last_funding_at      3021\n",
       "lifetime             3456\n",
       "geo_region             23\n",
       "dtype: int64"
      ]
     },
     "execution_count": 156,
     "metadata": {},
     "output_type": "execute_result"
    }
   ],
   "source": [
    "data_test.nunique()"
   ]
  },
  {
   "cell_type": "markdown",
   "id": "c2adac17-40c0-424f-96db-c740f8ebfc21",
   "metadata": {},
   "source": [
    "Географические признаки компании-стартапа (4 уровня, от национального до уровня населенного пункта) окажут существенное влияние на обучеение нашей модели. При этом, количество уникальных значений в столбце country_code относительно невелико - 135 для \"df_train\". Введем новый укрупненный географический признак, объединяющий страны в суб-регионы.  \n",
    "  \n",
    "Для этого используем ISO-3_код страны и данные с сайта 'https://cloford.com/resources/codes/index.htm'. Используем критерий региона, т.к. признак континента дает излишнее для целей исследования укрупнение."
   ]
  },
  {
   "cell_type": "code",
   "execution_count": 64,
   "id": "9e8c7403-20bc-418b-97e4-8edc0d923f80",
   "metadata": {},
   "outputs": [],
   "source": [
    "# создаем функцию для определния географического суб-региона страны по её ISO-3_коду\n",
    "def find_geo_region(ctry_iso):\n",
    "\n",
    "    '''\n",
    "    Функция принимает ISO-3_код страны и привязывает страну\n",
    "    к конкретному географическому суб-региону\n",
    "    '''\n",
    "    \n",
    "    # создаем словарь с географическими суб-регионами и странами\n",
    "    countries_dict = {\n",
    "        'Central Africa' : ['RWA'],\n",
    "        'Central America' : ['BLZ', 'CRI', 'GTM', 'HND', 'MEX', 'NIC', 'PAN', 'SLV'],\n",
    "        'Central Asia' : ['KAZ', 'UZB'],\n",
    "        'Central Europe' : ['AUT', 'CHE', 'CZE', 'HUN', 'LIE', 'SVK'],\n",
    "        'East Asia' : ['CHN', 'HKG', 'JPN', 'KOR', 'TWN'],\n",
    "        'Eastern Africa' : ['KEN', 'SOM', 'TAN', 'UGA'],\n",
    "        'Eastern Europe' : ['BLR', 'EST', 'LTU', 'LVA', 'MDA', 'POL', 'UKR'],\n",
    "        'Indian Ocean' : ['MUS', 'SYC'],\n",
    "        'no_region' : ['no_country'],\n",
    "        'North America' : ['CAN', 'USA'],\n",
    "        'Northern Africa' : ['DZA', 'EGY', 'MAR', 'TUN'],\n",
    "        'Northern Asia' : ['RUS'],\n",
    "        'Northern Europe' : ['DNK', 'FIN', 'ISL', 'NOR', 'SWE'],\n",
    "        'Pacific' : ['AUS', 'NZL'],\n",
    "        'South America' : ['ARG', 'BRA', 'CHL', 'COL', 'ECU', 'PER', 'PRY', 'URY', 'VEN'],\n",
    "        'South Asia' : ['BGD', 'IND', 'LKA', 'NPL', 'PAK'],\n",
    "        'South East Asia' : ['BRN', 'IDN', 'KHM', 'LAO', 'MMR', 'MYS', 'PHL', 'SGP', 'THA', 'VNM'],\n",
    "        'South East Europe' : ['ALB', 'BGR', 'GRC', 'HRV', 'MKD', 'MNE', 'ROM', 'SRB', 'SVN'],\n",
    "        'South West Asia' : ['ARE', 'ARM', 'AZE', 'BHR', 'CYP', 'GEO', 'IRN', 'ISR', 'JOR', 'KWT', 'LBN', 'OMN', 'PSE', 'QAT', 'SAU', 'TUR'],\n",
    "        'South West Europe' : ['ESP', 'GIB', 'PRT'],\n",
    "        'Southern Africa' : ['BWA', 'MOZ', 'ZAF', 'ZMB', 'ZWE'],\n",
    "        'Southern Europe' : ['ITA', 'MLT'],\n",
    "        'West Indies' : ['BAH', 'BLM', 'BMU', 'CYM', 'DOM', 'GRD', 'JAM', 'KNA', 'MAF', 'PRI', 'TTO'],\n",
    "        'Western Africa' : ['CMR', 'GHA', 'NGA', 'SEN', 'TGO'],\n",
    "        'Western Europe' : ['BEL', 'DEU', 'FRA', 'GBR', 'GGY', 'IRL', 'JEY', 'LUX', 'MCO', 'NLD']\n",
    "    }\n",
    "\n",
    "    # с помощью цикла находим вхождение наименования страны в соотвествующий регион\n",
    "    for k in countries_dict.keys():\n",
    "        if ctry_iso in countries_dict[k]:\n",
    "            return k"
   ]
  },
  {
   "cell_type": "code",
   "execution_count": 180,
   "id": "dc978020-c303-4b5f-9489-7c8aa296bfda",
   "metadata": {},
   "outputs": [],
   "source": [
    "# применим функцию и добавим новый столбец\n",
    "data_train.loc[:, 'geo_region'] = data_train.loc[:, 'country_code'].apply(find_geo_region)\n",
    "data_test.loc[:, 'geo_region'] = data_test.loc[:, 'country_code'].apply(find_geo_region)"
   ]
  },
  {
   "cell_type": "code",
   "execution_count": 245,
   "id": "a4e62550-d6ab-4102-ac58-d21edb62ec18",
   "metadata": {},
   "outputs": [
    {
     "name": "stdout",
     "output_type": "stream",
     "text": [
      "Результат добавления колонки \"geo_sub_region\" в датафрейм \"data_train\":\n"
     ]
    },
    {
     "ename": "KeyError",
     "evalue": "\"['geo_region'] not in index\"",
     "output_type": "error",
     "traceback": [
      "\u001b[1;31m---------------------------------------------------------------------------\u001b[0m",
      "\u001b[1;31mKeyError\u001b[0m                                  Traceback (most recent call last)",
      "Cell \u001b[1;32mIn[245], line 3\u001b[0m\n\u001b[0;32m      1\u001b[0m \u001b[38;5;66;03m# проверка привязки к суб-региону\u001b[39;00m\n\u001b[0;32m      2\u001b[0m \u001b[38;5;28mprint\u001b[39m(\u001b[38;5;124mf\u001b[39m\u001b[38;5;124m'\u001b[39m\u001b[38;5;124mРезультат добавления колонки \u001b[39m\u001b[38;5;124m\"\u001b[39m\u001b[38;5;124mgeo_sub_region\u001b[39m\u001b[38;5;124m\"\u001b[39m\u001b[38;5;124m в датафрейм \u001b[39m\u001b[38;5;124m\"\u001b[39m\u001b[38;5;124mdata_train\u001b[39m\u001b[38;5;124m\"\u001b[39m\u001b[38;5;124m:\u001b[39m\u001b[38;5;124m'\u001b[39m)\n\u001b[1;32m----> 3\u001b[0m display(data_train[[\u001b[38;5;124m'\u001b[39m\u001b[38;5;124mname\u001b[39m\u001b[38;5;124m'\u001b[39m, \u001b[38;5;124m'\u001b[39m\u001b[38;5;124mcountry_code\u001b[39m\u001b[38;5;124m'\u001b[39m, \u001b[38;5;124m'\u001b[39m\u001b[38;5;124mgeo_region\u001b[39m\u001b[38;5;124m'\u001b[39m]]\u001b[38;5;241m.\u001b[39msample(\u001b[38;5;241m5\u001b[39m))\n\u001b[0;32m      4\u001b[0m \u001b[38;5;28mprint\u001b[39m(\u001b[38;5;124mf\u001b[39m\u001b[38;5;124m'\u001b[39m\u001b[38;5;124mРезультат добавления колонки \u001b[39m\u001b[38;5;124m\"\u001b[39m\u001b[38;5;124mgeo_sub_region\u001b[39m\u001b[38;5;124m\"\u001b[39m\u001b[38;5;124m в датафрейм \u001b[39m\u001b[38;5;124m\"\u001b[39m\u001b[38;5;124mdata_test\u001b[39m\u001b[38;5;124m\"\u001b[39m\u001b[38;5;124m:\u001b[39m\u001b[38;5;124m'\u001b[39m)\n\u001b[0;32m      5\u001b[0m display(data_test[[\u001b[38;5;124m'\u001b[39m\u001b[38;5;124mname\u001b[39m\u001b[38;5;124m'\u001b[39m, \u001b[38;5;124m'\u001b[39m\u001b[38;5;124mcountry_code\u001b[39m\u001b[38;5;124m'\u001b[39m, \u001b[38;5;124m'\u001b[39m\u001b[38;5;124mgeo_region\u001b[39m\u001b[38;5;124m'\u001b[39m]]\u001b[38;5;241m.\u001b[39msample(\u001b[38;5;241m5\u001b[39m))\n",
      "File \u001b[1;32m~\\anaconda3\\Lib\\site-packages\\pandas\\core\\frame.py:4108\u001b[0m, in \u001b[0;36mDataFrame.__getitem__\u001b[1;34m(self, key)\u001b[0m\n\u001b[0;32m   4106\u001b[0m     \u001b[38;5;28;01mif\u001b[39;00m is_iterator(key):\n\u001b[0;32m   4107\u001b[0m         key \u001b[38;5;241m=\u001b[39m \u001b[38;5;28mlist\u001b[39m(key)\n\u001b[1;32m-> 4108\u001b[0m     indexer \u001b[38;5;241m=\u001b[39m \u001b[38;5;28mself\u001b[39m\u001b[38;5;241m.\u001b[39mcolumns\u001b[38;5;241m.\u001b[39m_get_indexer_strict(key, \u001b[38;5;124m\"\u001b[39m\u001b[38;5;124mcolumns\u001b[39m\u001b[38;5;124m\"\u001b[39m)[\u001b[38;5;241m1\u001b[39m]\n\u001b[0;32m   4110\u001b[0m \u001b[38;5;66;03m# take() does not accept boolean indexers\u001b[39;00m\n\u001b[0;32m   4111\u001b[0m \u001b[38;5;28;01mif\u001b[39;00m \u001b[38;5;28mgetattr\u001b[39m(indexer, \u001b[38;5;124m\"\u001b[39m\u001b[38;5;124mdtype\u001b[39m\u001b[38;5;124m\"\u001b[39m, \u001b[38;5;28;01mNone\u001b[39;00m) \u001b[38;5;241m==\u001b[39m \u001b[38;5;28mbool\u001b[39m:\n",
      "File \u001b[1;32m~\\anaconda3\\Lib\\site-packages\\pandas\\core\\indexes\\base.py:6200\u001b[0m, in \u001b[0;36mIndex._get_indexer_strict\u001b[1;34m(self, key, axis_name)\u001b[0m\n\u001b[0;32m   6197\u001b[0m \u001b[38;5;28;01melse\u001b[39;00m:\n\u001b[0;32m   6198\u001b[0m     keyarr, indexer, new_indexer \u001b[38;5;241m=\u001b[39m \u001b[38;5;28mself\u001b[39m\u001b[38;5;241m.\u001b[39m_reindex_non_unique(keyarr)\n\u001b[1;32m-> 6200\u001b[0m \u001b[38;5;28mself\u001b[39m\u001b[38;5;241m.\u001b[39m_raise_if_missing(keyarr, indexer, axis_name)\n\u001b[0;32m   6202\u001b[0m keyarr \u001b[38;5;241m=\u001b[39m \u001b[38;5;28mself\u001b[39m\u001b[38;5;241m.\u001b[39mtake(indexer)\n\u001b[0;32m   6203\u001b[0m \u001b[38;5;28;01mif\u001b[39;00m \u001b[38;5;28misinstance\u001b[39m(key, Index):\n\u001b[0;32m   6204\u001b[0m     \u001b[38;5;66;03m# GH 42790 - Preserve name from an Index\u001b[39;00m\n",
      "File \u001b[1;32m~\\anaconda3\\Lib\\site-packages\\pandas\\core\\indexes\\base.py:6252\u001b[0m, in \u001b[0;36mIndex._raise_if_missing\u001b[1;34m(self, key, indexer, axis_name)\u001b[0m\n\u001b[0;32m   6249\u001b[0m     \u001b[38;5;28;01mraise\u001b[39;00m \u001b[38;5;167;01mKeyError\u001b[39;00m(\u001b[38;5;124mf\u001b[39m\u001b[38;5;124m\"\u001b[39m\u001b[38;5;124mNone of [\u001b[39m\u001b[38;5;132;01m{\u001b[39;00mkey\u001b[38;5;132;01m}\u001b[39;00m\u001b[38;5;124m] are in the [\u001b[39m\u001b[38;5;132;01m{\u001b[39;00maxis_name\u001b[38;5;132;01m}\u001b[39;00m\u001b[38;5;124m]\u001b[39m\u001b[38;5;124m\"\u001b[39m)\n\u001b[0;32m   6251\u001b[0m not_found \u001b[38;5;241m=\u001b[39m \u001b[38;5;28mlist\u001b[39m(ensure_index(key)[missing_mask\u001b[38;5;241m.\u001b[39mnonzero()[\u001b[38;5;241m0\u001b[39m]]\u001b[38;5;241m.\u001b[39munique())\n\u001b[1;32m-> 6252\u001b[0m \u001b[38;5;28;01mraise\u001b[39;00m \u001b[38;5;167;01mKeyError\u001b[39;00m(\u001b[38;5;124mf\u001b[39m\u001b[38;5;124m\"\u001b[39m\u001b[38;5;132;01m{\u001b[39;00mnot_found\u001b[38;5;132;01m}\u001b[39;00m\u001b[38;5;124m not in index\u001b[39m\u001b[38;5;124m\"\u001b[39m)\n",
      "\u001b[1;31mKeyError\u001b[0m: \"['geo_region'] not in index\""
     ]
    }
   ],
   "source": [
    "# проверка привязки к суб-региону\n",
    "print(f'Результат добавления колонки \"geo_sub_region\" в датафрейм \"data_train\":')\n",
    "display(data_train[['name', 'country_code', 'geo_region']].sample(5))\n",
    "print(f'Результат добавления колонки \"geo_sub_region\" в датафрейм \"data_test\":')\n",
    "display(data_test[['name', 'country_code', 'geo_region']].sample(5))"
   ]
  },
  {
   "cell_type": "markdown",
   "id": "d378666a-1ade-4570-8835-d110c8a4747f",
   "metadata": {},
   "source": [
    "Новый признак для удобства исследования успешно добавлен."
   ]
  },
  {
   "cell_type": "markdown",
   "id": "d674b2ad-2836-4e78-b28f-8680db619c24",
   "metadata": {},
   "source": [
    "<div class=\"alert alert-block alert-info\">\n",
    "Шаг 3. Исследовательский анализ данных\n",
    "</div>"
   ]
  },
  {
   "cell_type": "markdown",
   "id": "456efcab-2ed1-42a6-8bfe-d7f5de468d8c",
   "metadata": {},
   "source": [
    "Оценим распределение количественных данных в сете data_train"
   ]
  },
  {
   "cell_type": "code",
   "execution_count": 247,
   "id": "9bee7db4-3220-47e8-999a-dcc6e449f875",
   "metadata": {},
   "outputs": [
    {
     "data": {
      "text/html": [
       "<div>\n",
       "<style scoped>\n",
       "    .dataframe tbody tr th:only-of-type {\n",
       "        vertical-align: middle;\n",
       "    }\n",
       "\n",
       "    .dataframe tbody tr th {\n",
       "        vertical-align: top;\n",
       "    }\n",
       "\n",
       "    .dataframe thead th {\n",
       "        text-align: right;\n",
       "    }\n",
       "</style>\n",
       "<table border=\"1\" class=\"dataframe\">\n",
       "  <thead>\n",
       "    <tr style=\"text-align: right;\">\n",
       "      <th></th>\n",
       "      <th>funding_total_usd</th>\n",
       "      <th>funding_rounds</th>\n",
       "    </tr>\n",
       "  </thead>\n",
       "  <tbody>\n",
       "    <tr>\n",
       "      <th>count</th>\n",
       "      <td>42,447.00</td>\n",
       "      <td>52,516.00</td>\n",
       "    </tr>\n",
       "    <tr>\n",
       "      <th>mean</th>\n",
       "      <td>18,247,480.66</td>\n",
       "      <td>1.74</td>\n",
       "    </tr>\n",
       "    <tr>\n",
       "      <th>std</th>\n",
       "      <td>187,117,301.32</td>\n",
       "      <td>1.37</td>\n",
       "    </tr>\n",
       "    <tr>\n",
       "      <th>min</th>\n",
       "      <td>1.00</td>\n",
       "      <td>1.00</td>\n",
       "    </tr>\n",
       "    <tr>\n",
       "      <th>25%</th>\n",
       "      <td>336,027.50</td>\n",
       "      <td>1.00</td>\n",
       "    </tr>\n",
       "    <tr>\n",
       "      <th>50%</th>\n",
       "      <td>2,000,000.00</td>\n",
       "      <td>1.00</td>\n",
       "    </tr>\n",
       "    <tr>\n",
       "      <th>75%</th>\n",
       "      <td>10,000,000.00</td>\n",
       "      <td>2.00</td>\n",
       "    </tr>\n",
       "    <tr>\n",
       "      <th>max</th>\n",
       "      <td>30,079,503,000.00</td>\n",
       "      <td>19.00</td>\n",
       "    </tr>\n",
       "  </tbody>\n",
       "</table>\n",
       "</div>"
      ],
      "text/plain": [
       "       funding_total_usd  funding_rounds\n",
       "count          42,447.00       52,516.00\n",
       "mean       18,247,480.66            1.74\n",
       "std       187,117,301.32            1.37\n",
       "min                 1.00            1.00\n",
       "25%           336,027.50            1.00\n",
       "50%         2,000,000.00            1.00\n",
       "75%        10,000,000.00            2.00\n",
       "max    30,079,503,000.00           19.00"
      ]
     },
     "execution_count": 247,
     "metadata": {},
     "output_type": "execute_result"
    }
   ],
   "source": [
    "data_train.describe()"
   ]
  },
  {
   "cell_type": "code",
   "execution_count": 73,
   "id": "be73ae1b-c44d-4c5b-aa12-30d8f1d7e3d4",
   "metadata": {},
   "outputs": [
    {
     "name": "stdout",
     "output_type": "stream",
     "text": [
      "<class 'pandas.core.frame.DataFrame'>\n",
      "RangeIndex: 52506 entries, 0 to 52505\n",
      "Data columns (total 14 columns):\n",
      " #   Column             Non-Null Count  Dtype         \n",
      "---  ------             --------------  -----         \n",
      " 0   name               52506 non-null  object        \n",
      " 1   category_list      52506 non-null  object        \n",
      " 2   funding_total_usd  52506 non-null  float64       \n",
      " 3   status             52506 non-null  object        \n",
      " 4   country_code       52506 non-null  object        \n",
      " 5   state_code         52506 non-null  object        \n",
      " 6   region             52506 non-null  object        \n",
      " 7   city               52506 non-null  object        \n",
      " 8   funding_rounds     52506 non-null  int64         \n",
      " 9   founded_at         52506 non-null  object        \n",
      " 10  first_funding_at   52506 non-null  object        \n",
      " 11  last_funding_at    52506 non-null  object        \n",
      " 12  closed_at          52506 non-null  datetime64[ns]\n",
      " 13  geo_region         52506 non-null  object        \n",
      "dtypes: datetime64[ns](1), float64(1), int64(1), object(11)\n",
      "memory usage: 5.6+ MB\n"
     ]
    }
   ],
   "source": [
    "data_train.info()"
   ]
  },
  {
   "cell_type": "code",
   "execution_count": null,
   "id": "1840a181-1567-4646-b9af-b5764bf553bb",
   "metadata": {},
   "outputs": [],
   "source": [
    "# создаем списки категориальных и количественных показателей\n",
    "data_train_num_col = list(data_train.select_dtypes(['int64', 'float64']).columns)\n",
    "data_train_cat_col = list(data_train.select_dtypes(['object']).columns)"
   ]
  },
  {
   "cell_type": "markdown",
   "id": "40a6e801-a42f-4232-9d52-f60acc9f0a78",
   "metadata": {},
   "source": [
    "- Гистограммы числовых столбцов"
   ]
  },
  {
   "cell_type": "code",
   "execution_count": 249,
   "id": "1169af8f-b891-42a3-aa1c-d20958b84c69",
   "metadata": {},
   "outputs": [
    {
     "data": {
      "image/png": "[encoded data removed]",
      "text/plain": [
       "<Figure size 640x480 with 1 Axes>"
      ]
     },
     "metadata": {},
     "output_type": "display_data"
    }
   ],
   "source": [
    "plt.title(f'Boxplot для funding_total_usd')\n",
    "data_train.boxplot(column=['funding_total_usd'])\n",
    "plt.ylabel('Значение')\n",
    "plt.show();"
   ]
  },
  {
   "cell_type": "markdown",
   "id": "b9815ffa-66fe-4bc6-b7b4-e2ba9ee6d17a",
   "metadata": {},
   "source": [
    "Как видно, 100 млн долларов выступает как граница выбросов.\n",
    "Присмотримся внимательнее к основной части данных."
   ]
  },
  {
   "cell_type": "code",
   "execution_count": null,
   "id": "854b700f-67a9-4dc9-be4b-8577a2dc1fe9",
   "metadata": {},
   "outputs": [],
   "source": [
    "data_train['funding_total_usd'].hist(range=(0,100000000),bins=100)\n",
    "plt.title(f'hist для funding_total_usd')\n",
    "plt.xlabel('Сумма')\n",
    "plt.ylabel('Количество')\n",
    "plt.show();"
   ]
  },
  {
   "cell_type": "code",
   "execution_count": null,
   "id": "306ae744-f305-4e58-9e01-fadb20bc9b59",
   "metadata": {},
   "outputs": [],
   "source": [
    "# исключим выбросы в funding_total_usd\n",
    "data_train = data_train.query('funding_total_usd < 100000000')"
   ]
  },
  {
   "cell_type": "code",
   "execution_count": 251,
   "id": "0bf4ff72-36f9-4940-8959-63f72f148e6b",
   "metadata": {},
   "outputs": [
    {
     "data": {
      "text/plain": [
       "(52516, 13)"
      ]
     },
     "execution_count": 251,
     "metadata": {},
     "output_type": "execute_result"
    }
   ],
   "source": [
    "data_train.shape"
   ]
  },
  {
   "cell_type": "markdown",
   "id": "6c85a5f9-29ac-44a8-a382-90fb2ffb30de",
   "metadata": {},
   "source": [
    "Как видим, количественно датасет сократился на 1320 строк или на 2,5%, что не критично для дальнейшего анализа. При этом, ожидаем более высокую точночть предсказаний для нашей будущей модели."
   ]
  },
  {
   "cell_type": "code",
   "execution_count": 182,
   "id": "3b860378-6a7d-46cd-99d2-cb3440992b42",
   "metadata": {},
   "outputs": [
    {
     "data": {
      "text/plain": [
       "count   13,125.00\n",
       "mean     3,097.61\n",
       "std      2,128.36\n",
       "min         52.00\n",
       "25%      1,726.00\n",
       "50%      2,526.00\n",
       "75%      3,866.00\n",
       "max     17,167.00\n",
       "Name: lifetime, dtype: float64"
      ]
     },
     "execution_count": 182,
     "metadata": {},
     "output_type": "execute_result"
    }
   ],
   "source": [
    "data_test['lifetime'].describe()"
   ]
  },
  {
   "cell_type": "code",
   "execution_count": 253,
   "id": "c7287f43-671b-454e-b365-fcb6b2361cb8",
   "metadata": {},
   "outputs": [
    {
     "data": {
      "image/png": "[encoded data removed]",
      "text/plain": [
       "<Figure size 640x480 with 1 Axes>"
      ]
     },
     "metadata": {},
     "output_type": "display_data"
    }
   ],
   "source": [
    "data_test['lifetime'].hist(range=(0,17500),bins=100)\n",
    "plt.title(f'период существования стартапов')\n",
    "plt.xlabel('период в днях')\n",
    "plt.ylabel('количество стартапов')\n",
    "plt.show();"
   ]
  },
  {
   "cell_type": "code",
   "execution_count": 75,
   "id": "c80f7f7b-9f75-4df9-b3ea-c82d7043ccf8",
   "metadata": {},
   "outputs": [
    {
     "data": {
      "image/png": "[encoded data removed]",
      "text/plain": [
       "<Figure size 640x480 with 1 Axes>"
      ]
     },
     "metadata": {},
     "output_type": "display_data"
    }
   ],
   "source": [
    "plt.title(f'период существования стартапов')\n",
    "data_test.boxplot(column=['lifetime'])\n",
    "plt.ylabel('Значение')\n",
    "plt.show();"
   ]
  },
  {
   "cell_type": "code",
   "execution_count": null,
   "id": "be9d2d01-4c3b-4d58-8ff1-f06619aa0547",
   "metadata": {},
   "outputs": [],
   "source": [
    "ax = data_train['status'].value_counts().plot.bar()\n",
    "plt.title('количество действующих/закрывшихся стартапов')\n",
    "plt.ylabel('количество')\n",
    "plt.show()"
   ]
  },
  {
   "cell_type": "code",
   "execution_count": 141,
   "id": "0f4a7733-01e4-45af-9dbb-4b7a08026a74",
   "metadata": {},
   "outputs": [
    {
     "data": {
      "image/png": "[encoded data removed]",
      "text/plain": [
       "<Figure size 640x480 with 1 Axes>"
      ]
     },
     "metadata": {},
     "output_type": "display_data"
    }
   ],
   "source": [
    "data_train['status'].value_counts().plot(kind='pie', autopct='%1.1f%%')\n",
    "plt.title('процент активных стартапов')\n",
    "plt.ylabel('')\n",
    "plt.show();"
   ]
  },
  {
   "cell_type": "code",
   "execution_count": null,
   "id": "7c4cb3d1-481d-4c07-b67f-10e0ffd35b0f",
   "metadata": {},
   "outputs": [],
   "source": [
    "ax = data_train['geo_region'].value_counts().plot.bar()\n",
    "plt.title('распределение стартапов по гео-регионам')\n",
    "plt.ylabel('количество')\n",
    "plt.show()"
   ]
  },
  {
   "cell_type": "code",
   "execution_count": null,
   "id": "84a23a17-fabd-406d-aab3-30f6e64fee30",
   "metadata": {},
   "outputs": [],
   "source": [
    "data_train['geo_region'].value_counts().plot(kind='pie', autopct='%1.1f%%')\n",
    "plt.title('процентное соотношение стартапов для гео-региона')\n",
    "plt.ylabel('')\n",
    "plt.show();"
   ]
  },
  {
   "cell_type": "code",
   "execution_count": 139,
   "id": "ffd2bc97-8d9a-4fa3-9af6-d4687a23b8e6",
   "metadata": {},
   "outputs": [
    {
     "name": "stderr",
     "output_type": "stream",
     "text": [
      "C:\\Users\\pegof\\anaconda3\\Lib\\site-packages\\phik\\data_quality.py:55: UserWarning: The number of unique values of variable category_list is very large: 573. Are you sure this is not an interval variable? Analysis for pairs of variables including category_list might be slow.\n",
      "  warnings.warn(\n",
      "C:\\Users\\pegof\\anaconda3\\Lib\\site-packages\\phik\\data_quality.py:55: UserWarning: The number of unique values of variable city is very large: 381. Are you sure this is not an interval variable? Analysis for pairs of variables including city might be slow.\n",
      "  warnings.warn(\n",
      "C:\\Users\\pegof\\anaconda3\\Lib\\site-packages\\phik\\data_quality.py:55: UserWarning: The number of unique values of variable closed_at is very large: 104. Are you sure this is not an interval variable? Analysis for pairs of variables including closed_at might be slow.\n",
      "  warnings.warn(\n",
      "C:\\Users\\pegof\\anaconda3\\Lib\\site-packages\\phik\\data_quality.py:55: UserWarning: The number of unique values of variable region is very large: 225. Are you sure this is not an interval variable? Analysis for pairs of variables including region might be slow.\n",
      "  warnings.warn(\n",
      "C:\\Users\\pegof\\anaconda3\\Lib\\site-packages\\phik\\data_quality.py:55: UserWarning: The number of unique values of variable state_code is very large: 121. Are you sure this is not an interval variable? Analysis for pairs of variables including state_code might be slow.\n",
      "  warnings.warn(\n"
     ]
    },
    {
     "data": {
      "image/png": "[encoded data removed]",
      "text/plain": [
       "<Figure size 1600x800 with 2 Axes>"
      ]
     },
     "metadata": {},
     "output_type": "display_data"
    }
   ],
   "source": [
    "interval_cols = ['funding_total_usd']\n",
    "corr_matrix = (data_train.drop(['founded_at',\n",
    "                           'first_funding_at',\n",
    "                           'last_funding_at',\n",
    "                           'name'], axis=1)).sample(1000).phik_matrix(interval_cols=interval_cols)\n",
    "\n",
    "plot_correlation_matrix(corr_matrix.values, \n",
    "                        x_labels=corr_matrix.columns, \n",
    "                        y_labels=corr_matrix.index, \n",
    "                        vmin=0, vmax=1, color_map=\"Greens\", \n",
    "                        title=r\"корреляция признаков для тренировочного датасета\", \n",
    "                        fontsize_factor=1, \n",
    "                        figsize=(16, 8));\n",
    "plt.tight_layout();"
   ]
  },
  {
   "cell_type": "code",
   "execution_count": 184,
   "id": "c9a95f7f-c984-40d4-8b1f-14c0cbad92e6",
   "metadata": {},
   "outputs": [
    {
     "name": "stderr",
     "output_type": "stream",
     "text": [
      "C:\\Users\\pegof\\anaconda3\\Lib\\site-packages\\phik\\data_quality.py:55: UserWarning: The number of unique values of variable category_list is very large: 593. Are you sure this is not an interval variable? Analysis for pairs of variables including category_list might be slow.\n",
      "  warnings.warn(\n",
      "C:\\Users\\pegof\\anaconda3\\Lib\\site-packages\\phik\\data_quality.py:55: UserWarning: The number of unique values of variable city is very large: 408. Are you sure this is not an interval variable? Analysis for pairs of variables including city might be slow.\n",
      "  warnings.warn(\n",
      "C:\\Users\\pegof\\anaconda3\\Lib\\site-packages\\phik\\data_quality.py:55: UserWarning: The number of unique values of variable name is very large: 1000. Are you sure this is not an interval variable? Analysis for pairs of variables including name might be slow.\n",
      "  warnings.warn(\n",
      "C:\\Users\\pegof\\anaconda3\\Lib\\site-packages\\phik\\data_quality.py:55: UserWarning: The number of unique values of variable region is very large: 234. Are you sure this is not an interval variable? Analysis for pairs of variables including region might be slow.\n",
      "  warnings.warn(\n",
      "C:\\Users\\pegof\\anaconda3\\Lib\\site-packages\\phik\\data_quality.py:55: UserWarning: The number of unique values of variable state_code is very large: 110. Are you sure this is not an interval variable? Analysis for pairs of variables including state_code might be slow.\n",
      "  warnings.warn(\n",
      "C:\\Users\\pegof\\anaconda3\\Lib\\site-packages\\phik\\phik.py:128: FutureWarning: Downcasting behavior in `replace` is deprecated and will be removed in a future version. To retain the old behavior, explicitly call `result.infer_objects(copy=False)`. To opt-in to the future behavior, set `pd.set_option('future.no_silent_downcasting', True)`\n",
      "  data_binned.replace(defs.UF, np.nan, inplace=True)\n"
     ]
    },
    {
     "data": {
      "image/png": "[encoded data removed]",
      "text/plain": [
       "<Figure size 1600x800 with 2 Axes>"
      ]
     },
     "metadata": {},
     "output_type": "display_data"
    }
   ],
   "source": [
    "interval_cols = ['lifetime','funding_total_usd']\n",
    "corr_matrix = (data_test.drop(['first_funding_at',\n",
    "                           'last_funding_at'], axis=1)).sample(1000).phik_matrix(interval_cols=interval_cols)\n",
    "\n",
    "plot_correlation_matrix(corr_matrix.values, \n",
    "                        x_labels=corr_matrix.columns, \n",
    "                        y_labels=corr_matrix.index, \n",
    "                        vmin=0, vmax=1, color_map=\"Greens\", \n",
    "                        title=r\"корреляция признаков для тестового датасета\", \n",
    "                        fontsize_factor=1, \n",
    "                        figsize=(16, 8));\n",
    "plt.tight_layout();"
   ]
  },
  {
   "cell_type": "markdown",
   "id": "e3304931-1564-4222-a182-beded08d1a49",
   "metadata": {},
   "source": [
    "Вывод  \n",
    "Распределение признаков   \n",
    "\n",
    "У таргета присутствует диссбаланс (91% - operating, 9% - closed).\n",
    "Порядка 70% стартапов находяться в Северной Америки, 17% - в Европе, 10% - в Азии.\n",
    "Больше всего стартапов в США, Англии и Канаде. Россия за пределами топ-10 в этот период. Что касается городов, то 10 лидеров:\n",
    "San Francisco: 2824\n",
    "New York: 2486\n",
    "London: 1514\n",
    "Austin: 609\n",
    "Palo Alto: 605\n",
    "Los Angeles: 604\n",
    "Seattle: 592\n",
    "Chicago: 546\n",
    "Cambridge: 542\n",
    "Boston: 508\n",
    "\n",
    "Количество стартапов начало значительно увеличиваться с 2000 года, причем видно существенное снижение с 2013 по 2015 года. Если разделять по статусам, то заметно, что число закрытых стартапов также начало увеличиваться с 2000 года, заметен небольшой пик с  2006 года и с 2014 го.\n",
    "Более массированные инвестиции пошли с 2008 года, причем отметим спад с 2014 по 2015 года.\n",
    "\n",
    "В среднем, сумма инвенстирования сотсавляет 7,5 млн, а медианное значение в районе 2 млн.\n",
    "В среднем стартапы существуют 2557 дней.\n",
    "33478 стартапов имели 1 раунд финансирования (это около 64% от общего числа раудов, всего 19)\n",
    "Больше всего категорий стартапов Biotechnology и Software.\n",
    "\n",
    "Корреляционный анализ \n",
    "\n",
    "Отметим заметную связь географических признаков, связь целевого признака с локацией и количеством раундов, а также связь объема финанирования со специализацияей стартапа.  "
   ]
  },
  {
   "cell_type": "markdown",
   "id": "46612161-874a-4b96-8d6d-f498bf13f71b",
   "metadata": {},
   "source": [
    "<div class=\"alert alert-block alert-info\">\n",
    "Шаг 4. Подготовка данных\n",
    "</div>"
   ]
  },
  {
   "cell_type": "markdown",
   "id": "9e24929e-1388-4a5b-a9bb-b5b411dc97d3",
   "metadata": {},
   "source": [
    "Подготовим данные для поиска лучшей модели. Создадим пайплайн с использованием ColumnTransformer. Количественные и категориальные данные будут проведены через пайплайн отдельно."
   ]
  },
  {
   "cell_type": "code",
   "execution_count": 78,
   "id": "5893bbb1-a98d-4aa8-ab2f-b8b1369ac678",
   "metadata": {},
   "outputs": [
    {
     "name": "stdout",
     "output_type": "stream",
     "text": [
      "Размер подготовленных выборок:\n"
     ]
    },
    {
     "data": {
      "text/html": [
       "<div>\n",
       "<style scoped>\n",
       "    .dataframe tbody tr th:only-of-type {\n",
       "        vertical-align: middle;\n",
       "    }\n",
       "\n",
       "    .dataframe tbody tr th {\n",
       "        vertical-align: top;\n",
       "    }\n",
       "\n",
       "    .dataframe thead th {\n",
       "        text-align: right;\n",
       "    }\n",
       "</style>\n",
       "<table border=\"1\" class=\"dataframe\">\n",
       "  <thead>\n",
       "    <tr style=\"text-align: right;\">\n",
       "      <th></th>\n",
       "      <th>Входные признаки(X)</th>\n",
       "      <th>Целевой признак(y)</th>\n",
       "    </tr>\n",
       "  </thead>\n",
       "  <tbody>\n",
       "    <tr>\n",
       "      <th>Тренировочные данные</th>\n",
       "      <td>(39379, 3)</td>\n",
       "      <td>(39379,)</td>\n",
       "    </tr>\n",
       "    <tr>\n",
       "      <th>Тестовые данные</th>\n",
       "      <td>(13127, 3)</td>\n",
       "      <td>(13127,)</td>\n",
       "    </tr>\n",
       "  </tbody>\n",
       "</table>\n",
       "</div>"
      ],
      "text/plain": [
       "                     Входные признаки(X) Целевой признак(y)\n",
       "Тренировочные данные          (39379, 3)           (39379,)\n",
       "Тестовые данные               (13127, 3)           (13127,)"
      ]
     },
     "metadata": {},
     "output_type": "display_data"
    },
    {
     "name": "stdout",
     "output_type": "stream",
     "text": [
      "\n",
      "Результат кодирования целевого признака:\n"
     ]
    },
    {
     "data": {
      "text/html": [
       "<div>\n",
       "<style scoped>\n",
       "    .dataframe tbody tr th:only-of-type {\n",
       "        vertical-align: middle;\n",
       "    }\n",
       "\n",
       "    .dataframe tbody tr th {\n",
       "        vertical-align: top;\n",
       "    }\n",
       "\n",
       "    .dataframe thead th {\n",
       "        text-align: right;\n",
       "    }\n",
       "</style>\n",
       "<table border=\"1\" class=\"dataframe\">\n",
       "  <thead>\n",
       "    <tr style=\"text-align: right;\">\n",
       "      <th></th>\n",
       "      <th>quit</th>\n",
       "    </tr>\n",
       "  </thead>\n",
       "  <tbody>\n",
       "    <tr>\n",
       "      <th>0</th>\n",
       "      <td>closed</td>\n",
       "    </tr>\n",
       "    <tr>\n",
       "      <th>1</th>\n",
       "      <td>operating</td>\n",
       "    </tr>\n",
       "  </tbody>\n",
       "</table>\n",
       "</div>"
      ],
      "text/plain": [
       "        quit\n",
       "0     closed\n",
       "1  operating"
      ]
     },
     "metadata": {},
     "output_type": "display_data"
    }
   ],
   "source": [
    "TEST_SIZE = 0.25\n",
    "\n",
    "#делим датасет data_train на входные и целевой признаки\n",
    "X = data_train.drop([\n",
    "    'name', \n",
    "    'category_list', \n",
    "    'funding_total_usd', \n",
    "    'status', \n",
    "    'country_code',\n",
    "    'state_code', \n",
    "    'region', \n",
    "    'city', \n",
    "    'funding_rounds', \n",
    "    'founded_at',\n",
    "    'first_funding_at', \n",
    "    'last_funding_at', \n",
    "    'closed_at', \n",
    "    'geo_region',        \n",
    "], axis=1).copy()\n",
    "y = data_train['status'].copy()\n",
    "\n",
    "# тренировочная и валидационная выборка\n",
    "X_train, X_valid, y_train, y_valid = train_test_split(\n",
    "    X,\n",
    "    y,\n",
    "    test_size = TEST_SIZE, \n",
    "    random_state = RANDOM_STATE\n",
    ")\n",
    "\n",
    "# выведем на экран размер получившихся данных после подготовки\n",
    "print('Размер подготовленных выборок:')\n",
    "display(pd.DataFrame(\n",
    "    data={\n",
    "        'Входные признаки(X)': [X_train.shape, X_valid.shape],\n",
    "        'Целевой признак(y)': [y_train.shape, y_valid.shape]\n",
    "    }, \n",
    "    index=['Тренировочные данные', 'Тестовые данные']\n",
    "))\n",
    "print()\n",
    "\n",
    "# списки признаков\n",
    "cat_columns = X.select_dtypes(exclude='number').columns.tolist()\n",
    "num_columns = X.select_dtypes(include='number').columns.tolist()\n",
    "\n",
    "# экземпляр класса LabelEncoder для кодирования целевого признака\n",
    "label_encoder = LabelEncoder()\n",
    "y_train = label_encoder.fit_transform(y_train)\n",
    "y_valid = label_encoder.transform(y_valid)\n",
    "\n",
    "# коды категорий целевого признака\n",
    "print('Результат кодирования целевого признака:')\n",
    "display(pd.DataFrame(data=label_encoder.classes_, columns=['quit']))\n",
    "\n",
    "# пайплайны для подготовки признаков\n",
    "# SimpleImputer + OHE\n",
    "ohe_pipe = Pipeline(\n",
    "    [\n",
    "        ('sImputer_nan_mf', SimpleImputer(missing_values=np.nan, strategy='most_frequent')),\n",
    "        ('sImputer_sp_mf', SimpleImputer(missing_values = ' ', strategy='most_frequent')),\n",
    "        ('ohe', OneHotEncoder(drop='first', handle_unknown='ignore', sparse_output=False))\n",
    "    ]\n",
    ")\n",
    "\n",
    "# SimpleImputer + Scaler\n",
    "num_pipe = Pipeline(\n",
    "    [\n",
    "        ('sImputer_nan_med', SimpleImputer(missing_values=np.nan, strategy='median')),\n",
    "        ('scaler', StandardScaler())\n",
    "    ]\n",
    ")\n",
    "\n",
    "# общий пайплайн подтоговки данных\n",
    "data_preprocessor = ColumnTransformer(\n",
    "    [\n",
    "        ('cat', ohe_pipe, cat_columns),\n",
    "        ('num', num_pipe, num_columns)\n",
    "    ], \n",
    "    remainder='passthrough'\n",
    ")\n",
    "\n",
    "# итоговый пайплайн: подготовка данных и модель\n",
    "pipe_final = Pipeline(\n",
    "    [\n",
    "        ('preprocessor', data_preprocessor),\n",
    "        ('models', None)\n",
    "    ]\n",
    ")"
   ]
  },
  {
   "cell_type": "code",
   "execution_count": 81,
   "id": "59063fb7-769d-4a06-bb35-118f0a3258e1",
   "metadata": {},
   "outputs": [
    {
     "data": {
      "text/html": [
       "<div>\n",
       "<style scoped>\n",
       "    .dataframe tbody tr th:only-of-type {\n",
       "        vertical-align: middle;\n",
       "    }\n",
       "\n",
       "    .dataframe tbody tr th {\n",
       "        vertical-align: top;\n",
       "    }\n",
       "\n",
       "    .dataframe thead th {\n",
       "        text-align: right;\n",
       "    }\n",
       "</style>\n",
       "<table border=\"1\" class=\"dataframe\">\n",
       "  <thead>\n",
       "    <tr style=\"text-align: right;\">\n",
       "      <th></th>\n",
       "      <th>geo_region_Central America</th>\n",
       "      <th>geo_region_Central Asia</th>\n",
       "      <th>geo_region_Central Europe</th>\n",
       "      <th>geo_region_East Asia</th>\n",
       "      <th>geo_region_Eastern Africa</th>\n",
       "      <th>geo_region_Eastern Europe</th>\n",
       "      <th>geo_region_Indian Ocean</th>\n",
       "      <th>geo_region_North America</th>\n",
       "      <th>geo_region_Northern Africa</th>\n",
       "      <th>geo_region_Northern Asia</th>\n",
       "      <th>...</th>\n",
       "      <th>geo_region_South West Asia</th>\n",
       "      <th>geo_region_South West Europe</th>\n",
       "      <th>geo_region_Southern Africa</th>\n",
       "      <th>geo_region_Southern Europe</th>\n",
       "      <th>geo_region_West Indies</th>\n",
       "      <th>geo_region_Western Africa</th>\n",
       "      <th>geo_region_Western Europe</th>\n",
       "      <th>geo_region_no_region</th>\n",
       "      <th>funding_total_usd</th>\n",
       "      <th>funding_rounds</th>\n",
       "    </tr>\n",
       "  </thead>\n",
       "  <tbody>\n",
       "    <tr>\n",
       "      <th>25686</th>\n",
       "      <td>0.0</td>\n",
       "      <td>0.0</td>\n",
       "      <td>0.0</td>\n",
       "      <td>0.0</td>\n",
       "      <td>0.0</td>\n",
       "      <td>0.0</td>\n",
       "      <td>0.0</td>\n",
       "      <td>1.0</td>\n",
       "      <td>0.0</td>\n",
       "      <td>0.0</td>\n",
       "      <td>...</td>\n",
       "      <td>0.0</td>\n",
       "      <td>0.0</td>\n",
       "      <td>0.0</td>\n",
       "      <td>0.0</td>\n",
       "      <td>0.0</td>\n",
       "      <td>0.0</td>\n",
       "      <td>0.0</td>\n",
       "      <td>0.0</td>\n",
       "      <td>-0.072393</td>\n",
       "      <td>-0.539454</td>\n",
       "    </tr>\n",
       "    <tr>\n",
       "      <th>3858</th>\n",
       "      <td>0.0</td>\n",
       "      <td>0.0</td>\n",
       "      <td>0.0</td>\n",
       "      <td>0.0</td>\n",
       "      <td>0.0</td>\n",
       "      <td>0.0</td>\n",
       "      <td>0.0</td>\n",
       "      <td>0.0</td>\n",
       "      <td>0.0</td>\n",
       "      <td>0.0</td>\n",
       "      <td>...</td>\n",
       "      <td>0.0</td>\n",
       "      <td>0.0</td>\n",
       "      <td>0.0</td>\n",
       "      <td>0.0</td>\n",
       "      <td>0.0</td>\n",
       "      <td>0.0</td>\n",
       "      <td>0.0</td>\n",
       "      <td>0.0</td>\n",
       "      <td>-0.082238</td>\n",
       "      <td>-0.539454</td>\n",
       "    </tr>\n",
       "    <tr>\n",
       "      <th>34525</th>\n",
       "      <td>0.0</td>\n",
       "      <td>0.0</td>\n",
       "      <td>0.0</td>\n",
       "      <td>0.0</td>\n",
       "      <td>0.0</td>\n",
       "      <td>0.0</td>\n",
       "      <td>0.0</td>\n",
       "      <td>1.0</td>\n",
       "      <td>0.0</td>\n",
       "      <td>0.0</td>\n",
       "      <td>...</td>\n",
       "      <td>0.0</td>\n",
       "      <td>0.0</td>\n",
       "      <td>0.0</td>\n",
       "      <td>0.0</td>\n",
       "      <td>0.0</td>\n",
       "      <td>0.0</td>\n",
       "      <td>0.0</td>\n",
       "      <td>0.0</td>\n",
       "      <td>0.276010</td>\n",
       "      <td>0.917503</td>\n",
       "    </tr>\n",
       "    <tr>\n",
       "      <th>23008</th>\n",
       "      <td>0.0</td>\n",
       "      <td>0.0</td>\n",
       "      <td>0.0</td>\n",
       "      <td>0.0</td>\n",
       "      <td>0.0</td>\n",
       "      <td>0.0</td>\n",
       "      <td>0.0</td>\n",
       "      <td>0.0</td>\n",
       "      <td>0.0</td>\n",
       "      <td>0.0</td>\n",
       "      <td>...</td>\n",
       "      <td>0.0</td>\n",
       "      <td>0.0</td>\n",
       "      <td>0.0</td>\n",
       "      <td>0.0</td>\n",
       "      <td>0.0</td>\n",
       "      <td>0.0</td>\n",
       "      <td>0.0</td>\n",
       "      <td>0.0</td>\n",
       "      <td>-0.081383</td>\n",
       "      <td>0.189024</td>\n",
       "    </tr>\n",
       "    <tr>\n",
       "      <th>14058</th>\n",
       "      <td>0.0</td>\n",
       "      <td>0.0</td>\n",
       "      <td>0.0</td>\n",
       "      <td>0.0</td>\n",
       "      <td>0.0</td>\n",
       "      <td>0.0</td>\n",
       "      <td>0.0</td>\n",
       "      <td>1.0</td>\n",
       "      <td>0.0</td>\n",
       "      <td>0.0</td>\n",
       "      <td>...</td>\n",
       "      <td>0.0</td>\n",
       "      <td>0.0</td>\n",
       "      <td>0.0</td>\n",
       "      <td>0.0</td>\n",
       "      <td>0.0</td>\n",
       "      <td>0.0</td>\n",
       "      <td>0.0</td>\n",
       "      <td>0.0</td>\n",
       "      <td>-0.072393</td>\n",
       "      <td>-0.539454</td>\n",
       "    </tr>\n",
       "  </tbody>\n",
       "</table>\n",
       "<p>5 rows × 26 columns</p>\n",
       "</div>"
      ],
      "text/plain": [
       "       geo_region_Central America  geo_region_Central Asia  \\\n",
       "25686                         0.0                      0.0   \n",
       "3858                          0.0                      0.0   \n",
       "34525                         0.0                      0.0   \n",
       "23008                         0.0                      0.0   \n",
       "14058                         0.0                      0.0   \n",
       "\n",
       "       geo_region_Central Europe  geo_region_East Asia  \\\n",
       "25686                        0.0                   0.0   \n",
       "3858                         0.0                   0.0   \n",
       "34525                        0.0                   0.0   \n",
       "23008                        0.0                   0.0   \n",
       "14058                        0.0                   0.0   \n",
       "\n",
       "       geo_region_Eastern Africa  geo_region_Eastern Europe  \\\n",
       "25686                        0.0                        0.0   \n",
       "3858                         0.0                        0.0   \n",
       "34525                        0.0                        0.0   \n",
       "23008                        0.0                        0.0   \n",
       "14058                        0.0                        0.0   \n",
       "\n",
       "       geo_region_Indian Ocean  geo_region_North America  \\\n",
       "25686                      0.0                       1.0   \n",
       "3858                       0.0                       0.0   \n",
       "34525                      0.0                       1.0   \n",
       "23008                      0.0                       0.0   \n",
       "14058                      0.0                       1.0   \n",
       "\n",
       "       geo_region_Northern Africa  geo_region_Northern Asia  ...  \\\n",
       "25686                         0.0                       0.0  ...   \n",
       "3858                          0.0                       0.0  ...   \n",
       "34525                         0.0                       0.0  ...   \n",
       "23008                         0.0                       0.0  ...   \n",
       "14058                         0.0                       0.0  ...   \n",
       "\n",
       "       geo_region_South West Asia  geo_region_South West Europe  \\\n",
       "25686                         0.0                           0.0   \n",
       "3858                          0.0                           0.0   \n",
       "34525                         0.0                           0.0   \n",
       "23008                         0.0                           0.0   \n",
       "14058                         0.0                           0.0   \n",
       "\n",
       "       geo_region_Southern Africa  geo_region_Southern Europe  \\\n",
       "25686                         0.0                         0.0   \n",
       "3858                          0.0                         0.0   \n",
       "34525                         0.0                         0.0   \n",
       "23008                         0.0                         0.0   \n",
       "14058                         0.0                         0.0   \n",
       "\n",
       "       geo_region_West Indies  geo_region_Western Africa  \\\n",
       "25686                     0.0                        0.0   \n",
       "3858                      0.0                        0.0   \n",
       "34525                     0.0                        0.0   \n",
       "23008                     0.0                        0.0   \n",
       "14058                     0.0                        0.0   \n",
       "\n",
       "       geo_region_Western Europe  geo_region_no_region  funding_total_usd  \\\n",
       "25686                        0.0                   0.0          -0.072393   \n",
       "3858                         0.0                   0.0          -0.082238   \n",
       "34525                        0.0                   0.0           0.276010   \n",
       "23008                        0.0                   0.0          -0.081383   \n",
       "14058                        0.0                   0.0          -0.072393   \n",
       "\n",
       "       funding_rounds  \n",
       "25686       -0.539454  \n",
       "3858        -0.539454  \n",
       "34525        0.917503  \n",
       "23008        0.189024  \n",
       "14058       -0.539454  \n",
       "\n",
       "[5 rows x 26 columns]"
      ]
     },
     "metadata": {},
     "output_type": "display_data"
    },
    {
     "data": {
      "text/html": [
       "<div>\n",
       "<style scoped>\n",
       "    .dataframe tbody tr th:only-of-type {\n",
       "        vertical-align: middle;\n",
       "    }\n",
       "\n",
       "    .dataframe tbody tr th {\n",
       "        vertical-align: top;\n",
       "    }\n",
       "\n",
       "    .dataframe thead th {\n",
       "        text-align: right;\n",
       "    }\n",
       "</style>\n",
       "<table border=\"1\" class=\"dataframe\">\n",
       "  <thead>\n",
       "    <tr style=\"text-align: right;\">\n",
       "      <th></th>\n",
       "      <th>geo_region_Central America</th>\n",
       "      <th>geo_region_Central Asia</th>\n",
       "      <th>geo_region_Central Europe</th>\n",
       "      <th>geo_region_East Asia</th>\n",
       "      <th>geo_region_Eastern Africa</th>\n",
       "      <th>geo_region_Eastern Europe</th>\n",
       "      <th>geo_region_Indian Ocean</th>\n",
       "      <th>geo_region_North America</th>\n",
       "      <th>geo_region_Northern Africa</th>\n",
       "      <th>geo_region_Northern Asia</th>\n",
       "      <th>...</th>\n",
       "      <th>geo_region_South West Asia</th>\n",
       "      <th>geo_region_South West Europe</th>\n",
       "      <th>geo_region_Southern Africa</th>\n",
       "      <th>geo_region_Southern Europe</th>\n",
       "      <th>geo_region_West Indies</th>\n",
       "      <th>geo_region_Western Africa</th>\n",
       "      <th>geo_region_Western Europe</th>\n",
       "      <th>geo_region_no_region</th>\n",
       "      <th>funding_total_usd</th>\n",
       "      <th>funding_rounds</th>\n",
       "    </tr>\n",
       "  </thead>\n",
       "  <tbody>\n",
       "    <tr>\n",
       "      <th>8563</th>\n",
       "      <td>0.0</td>\n",
       "      <td>0.0</td>\n",
       "      <td>0.0</td>\n",
       "      <td>0.0</td>\n",
       "      <td>0.0</td>\n",
       "      <td>0.0</td>\n",
       "      <td>0.0</td>\n",
       "      <td>0.0</td>\n",
       "      <td>0.0</td>\n",
       "      <td>0.0</td>\n",
       "      <td>...</td>\n",
       "      <td>0.0</td>\n",
       "      <td>0.0</td>\n",
       "      <td>0.0</td>\n",
       "      <td>0.0</td>\n",
       "      <td>0.0</td>\n",
       "      <td>0.0</td>\n",
       "      <td>0.0</td>\n",
       "      <td>1.0</td>\n",
       "      <td>-0.076769</td>\n",
       "      <td>-0.539454</td>\n",
       "    </tr>\n",
       "    <tr>\n",
       "      <th>9662</th>\n",
       "      <td>0.0</td>\n",
       "      <td>0.0</td>\n",
       "      <td>0.0</td>\n",
       "      <td>0.0</td>\n",
       "      <td>0.0</td>\n",
       "      <td>0.0</td>\n",
       "      <td>0.0</td>\n",
       "      <td>1.0</td>\n",
       "      <td>0.0</td>\n",
       "      <td>0.0</td>\n",
       "      <td>...</td>\n",
       "      <td>0.0</td>\n",
       "      <td>0.0</td>\n",
       "      <td>0.0</td>\n",
       "      <td>0.0</td>\n",
       "      <td>0.0</td>\n",
       "      <td>0.0</td>\n",
       "      <td>0.0</td>\n",
       "      <td>0.0</td>\n",
       "      <td>-0.076113</td>\n",
       "      <td>0.189024</td>\n",
       "    </tr>\n",
       "    <tr>\n",
       "      <th>11296</th>\n",
       "      <td>0.0</td>\n",
       "      <td>0.0</td>\n",
       "      <td>0.0</td>\n",
       "      <td>0.0</td>\n",
       "      <td>0.0</td>\n",
       "      <td>0.0</td>\n",
       "      <td>0.0</td>\n",
       "      <td>1.0</td>\n",
       "      <td>0.0</td>\n",
       "      <td>0.0</td>\n",
       "      <td>...</td>\n",
       "      <td>0.0</td>\n",
       "      <td>0.0</td>\n",
       "      <td>0.0</td>\n",
       "      <td>0.0</td>\n",
       "      <td>0.0</td>\n",
       "      <td>0.0</td>\n",
       "      <td>0.0</td>\n",
       "      <td>0.0</td>\n",
       "      <td>-0.068012</td>\n",
       "      <td>-0.539454</td>\n",
       "    </tr>\n",
       "    <tr>\n",
       "      <th>10092</th>\n",
       "      <td>0.0</td>\n",
       "      <td>0.0</td>\n",
       "      <td>0.0</td>\n",
       "      <td>0.0</td>\n",
       "      <td>0.0</td>\n",
       "      <td>0.0</td>\n",
       "      <td>0.0</td>\n",
       "      <td>0.0</td>\n",
       "      <td>0.0</td>\n",
       "      <td>0.0</td>\n",
       "      <td>...</td>\n",
       "      <td>0.0</td>\n",
       "      <td>0.0</td>\n",
       "      <td>0.0</td>\n",
       "      <td>1.0</td>\n",
       "      <td>0.0</td>\n",
       "      <td>0.0</td>\n",
       "      <td>0.0</td>\n",
       "      <td>0.0</td>\n",
       "      <td>-0.072393</td>\n",
       "      <td>-0.539454</td>\n",
       "    </tr>\n",
       "    <tr>\n",
       "      <th>5796</th>\n",
       "      <td>0.0</td>\n",
       "      <td>0.0</td>\n",
       "      <td>0.0</td>\n",
       "      <td>0.0</td>\n",
       "      <td>0.0</td>\n",
       "      <td>0.0</td>\n",
       "      <td>0.0</td>\n",
       "      <td>1.0</td>\n",
       "      <td>0.0</td>\n",
       "      <td>0.0</td>\n",
       "      <td>...</td>\n",
       "      <td>0.0</td>\n",
       "      <td>0.0</td>\n",
       "      <td>0.0</td>\n",
       "      <td>0.0</td>\n",
       "      <td>0.0</td>\n",
       "      <td>0.0</td>\n",
       "      <td>0.0</td>\n",
       "      <td>0.0</td>\n",
       "      <td>-0.072393</td>\n",
       "      <td>-0.539454</td>\n",
       "    </tr>\n",
       "  </tbody>\n",
       "</table>\n",
       "<p>5 rows × 26 columns</p>\n",
       "</div>"
      ],
      "text/plain": [
       "       geo_region_Central America  geo_region_Central Asia  \\\n",
       "8563                          0.0                      0.0   \n",
       "9662                          0.0                      0.0   \n",
       "11296                         0.0                      0.0   \n",
       "10092                         0.0                      0.0   \n",
       "5796                          0.0                      0.0   \n",
       "\n",
       "       geo_region_Central Europe  geo_region_East Asia  \\\n",
       "8563                         0.0                   0.0   \n",
       "9662                         0.0                   0.0   \n",
       "11296                        0.0                   0.0   \n",
       "10092                        0.0                   0.0   \n",
       "5796                         0.0                   0.0   \n",
       "\n",
       "       geo_region_Eastern Africa  geo_region_Eastern Europe  \\\n",
       "8563                         0.0                        0.0   \n",
       "9662                         0.0                        0.0   \n",
       "11296                        0.0                        0.0   \n",
       "10092                        0.0                        0.0   \n",
       "5796                         0.0                        0.0   \n",
       "\n",
       "       geo_region_Indian Ocean  geo_region_North America  \\\n",
       "8563                       0.0                       0.0   \n",
       "9662                       0.0                       1.0   \n",
       "11296                      0.0                       1.0   \n",
       "10092                      0.0                       0.0   \n",
       "5796                       0.0                       1.0   \n",
       "\n",
       "       geo_region_Northern Africa  geo_region_Northern Asia  ...  \\\n",
       "8563                          0.0                       0.0  ...   \n",
       "9662                          0.0                       0.0  ...   \n",
       "11296                         0.0                       0.0  ...   \n",
       "10092                         0.0                       0.0  ...   \n",
       "5796                          0.0                       0.0  ...   \n",
       "\n",
       "       geo_region_South West Asia  geo_region_South West Europe  \\\n",
       "8563                          0.0                           0.0   \n",
       "9662                          0.0                           0.0   \n",
       "11296                         0.0                           0.0   \n",
       "10092                         0.0                           0.0   \n",
       "5796                          0.0                           0.0   \n",
       "\n",
       "       geo_region_Southern Africa  geo_region_Southern Europe  \\\n",
       "8563                          0.0                         0.0   \n",
       "9662                          0.0                         0.0   \n",
       "11296                         0.0                         0.0   \n",
       "10092                         0.0                         1.0   \n",
       "5796                          0.0                         0.0   \n",
       "\n",
       "       geo_region_West Indies  geo_region_Western Africa  \\\n",
       "8563                      0.0                        0.0   \n",
       "9662                      0.0                        0.0   \n",
       "11296                     0.0                        0.0   \n",
       "10092                     0.0                        0.0   \n",
       "5796                      0.0                        0.0   \n",
       "\n",
       "       geo_region_Western Europe  geo_region_no_region  funding_total_usd  \\\n",
       "8563                         0.0                   1.0          -0.076769   \n",
       "9662                         0.0                   0.0          -0.076113   \n",
       "11296                        0.0                   0.0          -0.068012   \n",
       "10092                        0.0                   0.0          -0.072393   \n",
       "5796                         0.0                   0.0          -0.072393   \n",
       "\n",
       "       funding_rounds  \n",
       "8563        -0.539454  \n",
       "9662         0.189024  \n",
       "11296       -0.539454  \n",
       "10092       -0.539454  \n",
       "5796        -0.539454  \n",
       "\n",
       "[5 rows x 26 columns]"
      ]
     },
     "metadata": {},
     "output_type": "display_data"
    }
   ],
   "source": [
    "# применим pipeline для подготовки данных\n",
    "X_train_pr = data_preprocessor.fit_transform(X_train)\n",
    "X_valid_pr = data_preprocessor.transform(X_valid)\n",
    "\n",
    "# список признаков после процесса кодирования\n",
    "names_ohe = data_preprocessor.transformers_[0][1]['ohe'].get_feature_names_out(cat_columns)\n",
    "columns_full = names_ohe.tolist() + num_columns\n",
    "\n",
    "# датафреймы подготовленных данных с входными признаками\n",
    "X_train_pr = pd.DataFrame(X_train_pr, columns=columns_full)\n",
    "X_valid_pr = pd.DataFrame(X_valid_pr, columns=columns_full)\n",
    "\n",
    "# проверка\n",
    "display(X_train_pr.sample(5))\n",
    "display(X_valid_pr.sample(5))"
   ]
  },
  {
   "cell_type": "markdown",
   "id": "07c3395d-76cf-4884-8532-6bddf1a5adf0",
   "metadata": {},
   "source": [
    "<div class=\"alert alert-block alert-info\">\n",
    "Шаг 5. Выбор и обучение модели\n",
    "</div>"
   ]
  },
  {
   "cell_type": "markdown",
   "id": "ca01c5ad-0fa4-4883-99b8-a41146a990bd",
   "metadata": {},
   "source": [
    "Обучим и выведем метрику F1-score на моделях: Логистическая регрессия, kNN, Дерево решений.\n",
    "Подбор гиперпараметров выполним с помощью OptunaSearchCV."
   ]
  },
  {
   "cell_type": "code",
   "execution_count": 83,
   "id": "c1444faa-6158-4f88-b2e9-d5b6ea7240c4",
   "metadata": {},
   "outputs": [
    {
     "name": "stderr",
     "output_type": "stream",
     "text": [
      "C:\\Users\\pegof\\AppData\\Local\\Temp\\ipykernel_10136\\2004013257.py:58: ExperimentalWarning: OptunaSearchCV is experimental (supported from v0.17.0). The interface can change in the future.\n",
      "  oscv = OptunaSearchCV(\n",
      "[I 2024-08-11 14:39:10,660] A new study created in memory with name: no-name-7f26ee74-154e-4c35-83a3-78fd3fe030a8\n",
      "C:\\Users\\pegof\\anaconda3\\Lib\\site-packages\\sklearn\\linear_model\\_sag.py:349: ConvergenceWarning: The max_iter was reached which means the coef_ did not converge\n",
      "  warnings.warn(\n",
      "C:\\Users\\pegof\\anaconda3\\Lib\\site-packages\\sklearn\\linear_model\\_sag.py:349: ConvergenceWarning: The max_iter was reached which means the coef_ did not converge\n",
      "  warnings.warn(\n",
      "C:\\Users\\pegof\\anaconda3\\Lib\\site-packages\\sklearn\\linear_model\\_sag.py:349: ConvergenceWarning: The max_iter was reached which means the coef_ did not converge\n",
      "  warnings.warn(\n",
      "C:\\Users\\pegof\\anaconda3\\Lib\\site-packages\\sklearn\\linear_model\\_sag.py:349: ConvergenceWarning: The max_iter was reached which means the coef_ did not converge\n",
      "  warnings.warn(\n",
      "C:\\Users\\pegof\\anaconda3\\Lib\\site-packages\\sklearn\\linear_model\\_sag.py:349: ConvergenceWarning: The max_iter was reached which means the coef_ did not converge\n",
      "  warnings.warn(\n",
      "[I 2024-08-11 14:39:54,822] Trial 0 finished with value: 0.9035763633327525 and parameters: {'penalty': 'l2', 'C': 1, 'solver': 'saga', 'max_iter': 1000}. Best is trial 0 with value: 0.9035763633327525.\n",
      "[I 2024-08-11 14:39:55,206] Trial 1 finished with value: 0.9028169826826027 and parameters: {'penalty': 'l2', 'C': 1, 'solver': 'lbfgs', 'max_iter': 2000}. Best is trial 0 with value: 0.9035763633327525.\n",
      "C:\\Users\\pegof\\anaconda3\\Lib\\site-packages\\optuna_integration\\sklearn.py:377: RuntimeWarning: Mean of empty slice\n",
      "  trial.set_user_attr(\"mean_{}\".format(name), np.nanmean(array))\n",
      "C:\\Users\\pegof\\anaconda3\\Lib\\site-packages\\numpy\\lib\\nanfunctions.py:1879: RuntimeWarning: Degrees of freedom <= 0 for slice.\n",
      "  var = nanvar(a, axis=axis, dtype=dtype, out=out, ddof=ddof,\n",
      "[W 2024-08-11 14:39:55,239] Trial 2 failed with parameters: {'penalty': 'l1', 'C': 0.1, 'solver': 'lbfgs', 'max_iter': 1000} because of the following error: The value nan is not acceptable.\n",
      "[W 2024-08-11 14:39:55,239] Trial 2 failed with value nan.\n",
      "C:\\Users\\pegof\\anaconda3\\Lib\\site-packages\\sklearn\\linear_model\\_sag.py:349: ConvergenceWarning: The max_iter was reached which means the coef_ did not converge\n",
      "  warnings.warn(\n",
      "C:\\Users\\pegof\\anaconda3\\Lib\\site-packages\\sklearn\\linear_model\\_sag.py:349: ConvergenceWarning: The max_iter was reached which means the coef_ did not converge\n",
      "  warnings.warn(\n",
      "C:\\Users\\pegof\\anaconda3\\Lib\\site-packages\\sklearn\\linear_model\\_sag.py:349: ConvergenceWarning: The max_iter was reached which means the coef_ did not converge\n",
      "  warnings.warn(\n",
      "C:\\Users\\pegof\\anaconda3\\Lib\\site-packages\\sklearn\\linear_model\\_sag.py:349: ConvergenceWarning: The max_iter was reached which means the coef_ did not converge\n",
      "  warnings.warn(\n",
      "C:\\Users\\pegof\\anaconda3\\Lib\\site-packages\\sklearn\\linear_model\\_sag.py:349: ConvergenceWarning: The max_iter was reached which means the coef_ did not converge\n",
      "  warnings.warn(\n",
      "[I 2024-08-11 14:39:59,820] Trial 3 finished with value: 0.9074454023777973 and parameters: {'penalty': 'l2', 'C': 1, 'solver': 'saga', 'max_iter': 100}. Best is trial 3 with value: 0.9074454023777973.\n",
      "C:\\Users\\pegof\\anaconda3\\Lib\\site-packages\\optuna_integration\\sklearn.py:377: RuntimeWarning: Mean of empty slice\n",
      "  trial.set_user_attr(\"mean_{}\".format(name), np.nanmean(array))\n",
      "C:\\Users\\pegof\\anaconda3\\Lib\\site-packages\\numpy\\lib\\nanfunctions.py:1879: RuntimeWarning: Degrees of freedom <= 0 for slice.\n",
      "  var = nanvar(a, axis=axis, dtype=dtype, out=out, ddof=ddof,\n",
      "[W 2024-08-11 14:39:59,849] Trial 4 failed with parameters: {'penalty': 'l1', 'C': 1000, 'solver': 'lbfgs', 'max_iter': 1000} because of the following error: The value nan is not acceptable.\n",
      "[W 2024-08-11 14:39:59,850] Trial 4 failed with value nan.\n",
      "[I 2024-08-11 14:40:11,911] Trial 5 finished with value: 0.9037049191184481 and parameters: {'penalty': 'l2', 'C': 0.01, 'solver': 'saga', 'max_iter': 1000}. Best is trial 3 with value: 0.9074454023777973.\n",
      "C:\\Users\\pegof\\anaconda3\\Lib\\site-packages\\optuna_integration\\sklearn.py:377: RuntimeWarning: Mean of empty slice\n",
      "  trial.set_user_attr(\"mean_{}\".format(name), np.nanmean(array))\n",
      "C:\\Users\\pegof\\anaconda3\\Lib\\site-packages\\numpy\\lib\\nanfunctions.py:1879: RuntimeWarning: Degrees of freedom <= 0 for slice.\n",
      "  var = nanvar(a, axis=axis, dtype=dtype, out=out, ddof=ddof,\n",
      "[W 2024-08-11 14:40:11,936] Trial 6 failed with parameters: {'penalty': 'l1', 'C': 10, 'solver': 'lbfgs', 'max_iter': 1000} because of the following error: The value nan is not acceptable.\n",
      "[W 2024-08-11 14:40:11,937] Trial 6 failed with value nan.\n",
      "C:\\Users\\pegof\\anaconda3\\Lib\\site-packages\\sklearn\\linear_model\\_sag.py:349: ConvergenceWarning: The max_iter was reached which means the coef_ did not converge\n",
      "  warnings.warn(\n",
      "C:\\Users\\pegof\\anaconda3\\Lib\\site-packages\\sklearn\\linear_model\\_sag.py:349: ConvergenceWarning: The max_iter was reached which means the coef_ did not converge\n",
      "  warnings.warn(\n",
      "C:\\Users\\pegof\\anaconda3\\Lib\\site-packages\\sklearn\\linear_model\\_sag.py:349: ConvergenceWarning: The max_iter was reached which means the coef_ did not converge\n",
      "  warnings.warn(\n",
      "C:\\Users\\pegof\\anaconda3\\Lib\\site-packages\\sklearn\\linear_model\\_sag.py:349: ConvergenceWarning: The max_iter was reached which means the coef_ did not converge\n",
      "  warnings.warn(\n",
      "C:\\Users\\pegof\\anaconda3\\Lib\\site-packages\\sklearn\\linear_model\\_sag.py:349: ConvergenceWarning: The max_iter was reached which means the coef_ did not converge\n",
      "  warnings.warn(\n",
      "[I 2024-08-11 14:40:55,306] Trial 7 finished with value: 0.9035763633327525 and parameters: {'penalty': 'l2', 'C': 1, 'solver': 'saga', 'max_iter': 1000}. Best is trial 3 with value: 0.9074454023777973.\n",
      "C:\\Users\\pegof\\anaconda3\\Lib\\site-packages\\optuna_integration\\sklearn.py:377: RuntimeWarning: Mean of empty slice\n",
      "  trial.set_user_attr(\"mean_{}\".format(name), np.nanmean(array))\n",
      "C:\\Users\\pegof\\anaconda3\\Lib\\site-packages\\numpy\\lib\\nanfunctions.py:1879: RuntimeWarning: Degrees of freedom <= 0 for slice.\n",
      "  var = nanvar(a, axis=axis, dtype=dtype, out=out, ddof=ddof,\n",
      "[W 2024-08-11 14:40:55,329] Trial 8 failed with parameters: {'penalty': 'l1', 'C': 0.1, 'solver': 'lbfgs', 'max_iter': 2000} because of the following error: The value nan is not acceptable.\n",
      "[W 2024-08-11 14:40:55,330] Trial 8 failed with value nan.\n",
      "C:\\Users\\pegof\\anaconda3\\Lib\\site-packages\\optuna_integration\\sklearn.py:377: RuntimeWarning: Mean of empty slice\n",
      "  trial.set_user_attr(\"mean_{}\".format(name), np.nanmean(array))\n",
      "C:\\Users\\pegof\\anaconda3\\Lib\\site-packages\\numpy\\lib\\nanfunctions.py:1879: RuntimeWarning: Degrees of freedom <= 0 for slice.\n",
      "  var = nanvar(a, axis=axis, dtype=dtype, out=out, ddof=ddof,\n",
      "[W 2024-08-11 14:40:55,358] Trial 9 failed with parameters: {'penalty': 'l1', 'C': 1, 'solver': 'lbfgs', 'max_iter': 100} because of the following error: The value nan is not acceptable.\n",
      "[W 2024-08-11 14:40:55,359] Trial 9 failed with value nan.\n",
      "C:\\Users\\pegof\\anaconda3\\Lib\\site-packages\\sklearn\\linear_model\\_sag.py:349: ConvergenceWarning: The max_iter was reached which means the coef_ did not converge\n",
      "  warnings.warn(\n",
      "C:\\Users\\pegof\\AppData\\Local\\Temp\\ipykernel_10136\\2004013257.py:58: ExperimentalWarning: OptunaSearchCV is experimental (supported from v0.17.0). The interface can change in the future.\n",
      "  oscv = OptunaSearchCV(\n",
      "[I 2024-08-11 14:40:56,543] A new study created in memory with name: no-name-26198fdd-a809-4a88-af78-d345523dccbb\n"
     ]
    },
    {
     "name": "stdout",
     "output_type": "stream",
     "text": [
      "Подбор гиперпараметров для модели LogisticRegression:\n",
      "- лучшие гиперпараметры: {'penalty': 'l2', 'C': 1, 'solver': 'saga', 'max_iter': 100}\n",
      "- метрика F1-score на кросс-валидации: 0.90745\n"
     ]
    },
    {
     "name": "stderr",
     "output_type": "stream",
     "text": [
      "[I 2024-08-11 14:40:59,510] Trial 0 finished with value: 0.9503567860330163 and parameters: {'n_neighbors': 19}. Best is trial 0 with value: 0.9503567860330163.\n",
      "[I 2024-08-11 14:41:02,535] Trial 1 finished with value: 0.9506259871281755 and parameters: {'n_neighbors': 34}. Best is trial 1 with value: 0.9506259871281755.\n",
      "[I 2024-08-11 14:41:05,501] Trial 2 finished with value: 0.9324914813659971 and parameters: {'n_neighbors': 4}. Best is trial 1 with value: 0.9506259871281755.\n",
      "[I 2024-08-11 14:41:08,358] Trial 3 finished with value: 0.9496142500630057 and parameters: {'n_neighbors': 14}. Best is trial 1 with value: 0.9506259871281755.\n",
      "[I 2024-08-11 14:41:11,209] Trial 4 finished with value: 0.9501692768552349 and parameters: {'n_neighbors': 20}. Best is trial 1 with value: 0.9506259871281755.\n",
      "[I 2024-08-11 14:41:14,247] Trial 5 finished with value: 0.9498963375698188 and parameters: {'n_neighbors': 13}. Best is trial 1 with value: 0.9506259871281755.\n",
      "[I 2024-08-11 14:41:17,067] Trial 6 finished with value: 0.9415426950510994 and parameters: {'n_neighbors': 10}. Best is trial 1 with value: 0.9506259871281755.\n",
      "[I 2024-08-11 14:41:19,934] Trial 7 finished with value: 0.9407297082518594 and parameters: {'n_neighbors': 8}. Best is trial 1 with value: 0.9506259871281755.\n",
      "[I 2024-08-11 14:41:22,749] Trial 8 finished with value: 0.9407297082518594 and parameters: {'n_neighbors': 8}. Best is trial 1 with value: 0.9506259871281755.\n",
      "[I 2024-08-11 14:41:25,627] Trial 9 finished with value: 0.9496142500630057 and parameters: {'n_neighbors': 14}. Best is trial 1 with value: 0.9506259871281755.\n",
      "C:\\Users\\pegof\\AppData\\Local\\Temp\\ipykernel_10136\\2004013257.py:58: ExperimentalWarning: OptunaSearchCV is experimental (supported from v0.17.0). The interface can change in the future.\n",
      "  oscv = OptunaSearchCV(\n",
      "[I 2024-08-11 14:41:25,636] A new study created in memory with name: no-name-7329e6ea-ded9-4cf4-91b6-85ddebf0afe3\n"
     ]
    },
    {
     "name": "stdout",
     "output_type": "stream",
     "text": [
      "Подбор гиперпараметров для модели kNN:\n",
      "- лучшие гиперпараметры: {'n_neighbors': 34}\n",
      "- метрика F1-score на кросс-валидации: 0.95063\n"
     ]
    },
    {
     "name": "stderr",
     "output_type": "stream",
     "text": [
      "[I 2024-08-11 14:41:26,056] Trial 0 finished with value: 0.7656528529496919 and parameters: {'max_depth': 24, 'min_samples_split': 42, 'min_samples_leaf': 5}. Best is trial 0 with value: 0.7656528529496919.\n",
      "[I 2024-08-11 14:41:26,414] Trial 1 finished with value: 0.7782929735935118 and parameters: {'max_depth': 17, 'min_samples_split': 25, 'min_samples_leaf': 16}. Best is trial 1 with value: 0.7782929735935118.\n",
      "[I 2024-08-11 14:41:26,726] Trial 2 finished with value: 0.8264761900491007 and parameters: {'max_depth': 12, 'min_samples_split': 10, 'min_samples_leaf': 10}. Best is trial 2 with value: 0.8264761900491007.\n",
      "[I 2024-08-11 14:41:27,061] Trial 3 finished with value: 0.7773980005550907 and parameters: {'max_depth': 17, 'min_samples_split': 19, 'min_samples_leaf': 50}. Best is trial 2 with value: 0.8264761900491007.\n",
      "[I 2024-08-11 14:41:27,458] Trial 4 finished with value: 0.7569821246326847 and parameters: {'max_depth': 26, 'min_samples_split': 13, 'min_samples_leaf': 21}. Best is trial 2 with value: 0.8264761900491007.\n",
      "[I 2024-08-11 14:41:27,815] Trial 5 finished with value: 0.7593963256183219 and parameters: {'max_depth': 25, 'min_samples_split': 43, 'min_samples_leaf': 49}. Best is trial 2 with value: 0.8264761900491007.\n",
      "[I 2024-08-11 14:41:28,203] Trial 6 finished with value: 0.7681142139257198 and parameters: {'max_depth': 24, 'min_samples_split': 48, 'min_samples_leaf': 24}. Best is trial 2 with value: 0.8264761900491007.\n",
      "[I 2024-08-11 14:41:28,650] Trial 7 finished with value: 0.7565907778587124 and parameters: {'max_depth': 47, 'min_samples_split': 45, 'min_samples_leaf': 6}. Best is trial 2 with value: 0.8264761900491007.\n",
      "[I 2024-08-11 14:41:29,014] Trial 8 finished with value: 0.7584270887116543 and parameters: {'max_depth': 24, 'min_samples_split': 41, 'min_samples_leaf': 42}. Best is trial 2 with value: 0.8264761900491007.\n",
      "[I 2024-08-11 14:41:29,392] Trial 9 finished with value: 0.7554347728320199 and parameters: {'max_depth': 27, 'min_samples_split': 6, 'min_samples_leaf': 36}. Best is trial 2 with value: 0.8264761900491007.\n"
     ]
    },
    {
     "name": "stdout",
     "output_type": "stream",
     "text": [
      "Подбор гиперпараметров для модели DecisionTree:\n",
      "- лучшие гиперпараметры: {'max_depth': 12, 'min_samples_split': 10, 'min_samples_leaf': 10}\n",
      "- метрика F1-score на кросс-валидации: 0.82648\n"
     ]
    }
   ],
   "source": [
    "\n",
    "# при помощи цикла проведем поиск гиперпараметров для всех моделей\n",
    "RANDOM_STATE = 42\n",
    "\n",
    "\n",
    "# применим pipeline для подготовки данных\n",
    "X_train_pr = data_preprocessor.fit_transform(X_train)\n",
    "X_valid_pr = data_preprocessor.transform(X_valid)\n",
    "\n",
    "# список признаков после процесса кодирования\n",
    "names_ohe = data_preprocessor.transformers_[0][1]['ohe'].get_feature_names_out(cat_columns)\n",
    "columns_full = names_ohe.tolist() + num_columns\n",
    "\n",
    "# датафреймы подготовленных данных с входными признаками\n",
    "X_train_pr = pd.DataFrame(X_train_pr, columns=columns_full)\n",
    "X_valid_pr = pd.DataFrame(X_valid_pr, columns=columns_full)\n",
    "\n",
    "\n",
    "\n",
    "for m in ['log', 'knn', 'dtr']:\n",
    "    \n",
    "    if m == 'log':\n",
    "        # имя модели\n",
    "        model_name = 'LogisticRegression'\n",
    "        # инициализация\n",
    "        model = LogisticRegression(\n",
    "            class_weight='balanced', \n",
    "            random_state=RANDOM_STATE\n",
    "        )\n",
    "        # список гиперпараметров\n",
    "        parameters = {\n",
    "            'penalty' : distributions.CategoricalDistribution(choices=('l1', 'l2')),\n",
    "            'C': distributions.CategoricalDistribution(choices=(0.01, 0.1, 1, 10, 100, 1000)),\n",
    "            'solver' : distributions.CategoricalDistribution(choices=('lbfgs', 'saga')),\n",
    "            'max_iter' : distributions.CategoricalDistribution(choices=(100, 1000, 2000))\n",
    "        }\n",
    "\n",
    "    elif m == 'knn':\n",
    "        model_name = 'kNN'\n",
    "        model = KNeighborsClassifier()\n",
    "        parameters = {\n",
    "            'n_neighbors': distributions.IntDistribution(2, 40, log=False, step=1)\n",
    "        } \n",
    "\n",
    "    elif m == 'dtr':\n",
    "        model_name = 'DecisionTree'\n",
    "        model = DecisionTreeClassifier(\n",
    "            class_weight='balanced', \n",
    "            random_state=RANDOM_STATE\n",
    "        )\n",
    "        parameters = {\n",
    "            'max_depth': distributions.IntDistribution(2, 50),\n",
    "            'min_samples_split': distributions.IntDistribution(2, 50),\n",
    "            'min_samples_leaf': distributions.IntDistribution(2, 50)\n",
    "        } \n",
    "        \n",
    "    \n",
    "    # инициализация OptunaSearchCV\n",
    "    oscv = OptunaSearchCV(\n",
    "        model,\n",
    "        parameters,\n",
    "        scoring='f1',\n",
    "        cv=5,\n",
    "        n_trials=10,\n",
    "        random_state=RANDOM_STATE,\n",
    "        refit=True\n",
    "    )\n",
    "    \n",
    "    # проведем поиск гиперпараметров\n",
    "    oscv.fit(X_train_pr, y_train)\n",
    "\n",
    "    # название модели\n",
    "    print(f'Подбор гиперпараметров для модели {model_name}:')\n",
    "    \n",
    "    # лучшие гиперпараметры\n",
    "    print(f'- лучшие гиперпараметры: {oscv.best_params_}')\n",
    "    \n",
    "    # F1 на кросс-валидации\n",
    "    print(f'- метрика F1-score на кросс-валидации: {oscv.best_score_:.5f}')\n",
    "\n",
    "    # сохраним результаты подбора в переменные\n",
    "    globals()['oscv_' + m + '_best_params'] = oscv.best_params_\n",
    "    globals()['oscv_' + m + '_best_score'] = oscv.best_score_"
   ]
  },
  {
   "cell_type": "code",
   "execution_count": 84,
   "id": "dbadd11e-1f08-4667-be88-8bce79b773f1",
   "metadata": {},
   "outputs": [
    {
     "name": "stdout",
     "output_type": "stream",
     "text": [
      "Результаты работы моделей:\n"
     ]
    },
    {
     "data": {
      "text/html": [
       "<div>\n",
       "<style scoped>\n",
       "    .dataframe tbody tr th:only-of-type {\n",
       "        vertical-align: middle;\n",
       "    }\n",
       "\n",
       "    .dataframe tbody tr th {\n",
       "        vertical-align: top;\n",
       "    }\n",
       "\n",
       "    .dataframe thead th {\n",
       "        text-align: right;\n",
       "    }\n",
       "</style>\n",
       "<table border=\"1\" class=\"dataframe\">\n",
       "  <thead>\n",
       "    <tr style=\"text-align: right;\">\n",
       "      <th></th>\n",
       "      <th>Лучшие гиперпараметры</th>\n",
       "      <th>Лучшая метрика F1</th>\n",
       "    </tr>\n",
       "  </thead>\n",
       "  <tbody>\n",
       "    <tr>\n",
       "      <th>Logistic regression</th>\n",
       "      <td>{'penalty': 'l2', 'C': 1, 'solver': 'saga', 'm...</td>\n",
       "      <td>0.907445</td>\n",
       "    </tr>\n",
       "    <tr>\n",
       "      <th>kNN</th>\n",
       "      <td>{'n_neighbors': 34}</td>\n",
       "      <td>0.950626</td>\n",
       "    </tr>\n",
       "    <tr>\n",
       "      <th>DecisionTree</th>\n",
       "      <td>{'max_depth': 12, 'min_samples_split': 10, 'mi...</td>\n",
       "      <td>0.826476</td>\n",
       "    </tr>\n",
       "  </tbody>\n",
       "</table>\n",
       "</div>"
      ],
      "text/plain": [
       "                                                 Лучшие гиперпараметры  \\\n",
       "Logistic regression  {'penalty': 'l2', 'C': 1, 'solver': 'saga', 'm...   \n",
       "kNN                                                {'n_neighbors': 34}   \n",
       "DecisionTree         {'max_depth': 12, 'min_samples_split': 10, 'mi...   \n",
       "\n",
       "                     Лучшая метрика F1  \n",
       "Logistic regression           0.907445  \n",
       "kNN                           0.950626  \n",
       "DecisionTree                  0.826476  "
      ]
     },
     "metadata": {},
     "output_type": "display_data"
    }
   ],
   "source": [
    "# результаты обучения \n",
    "print('Результаты работы моделей:')\n",
    "display(pd.DataFrame(\n",
    "    data={\n",
    "        'Лучшие гиперпараметры': [\n",
    "            oscv_log_best_params, \n",
    "            oscv_knn_best_params, \n",
    "            oscv_dtr_best_params\n",
    "        ],\n",
    "        'Лучшая метрика F1': [\n",
    "            oscv_log_best_score,\n",
    "            oscv_knn_best_score,\n",
    "            oscv_dtr_best_score\n",
    "        ]\n",
    "    }, \n",
    "    index=[\n",
    "        'Logistic regression',\n",
    "        'kNN',\n",
    "        'DecisionTree'\n",
    "    ]\n",
    "))"
   ]
  },
  {
   "cell_type": "code",
   "execution_count": 97,
   "id": "708895c3-b7e2-4d34-89c3-25cacfad737d",
   "metadata": {},
   "outputs": [
    {
     "name": "stdout",
     "output_type": "stream",
     "text": [
      "Метрика F1 на тестовой выборке в DummyClassifier: 0.952\n"
     ]
    }
   ],
   "source": [
    "# инициализируем DummyClassifier\n",
    "dummy_clf = DummyClassifier(random_state=RANDOM_STATE)\n",
    "dummy_clf.fit(X_train, y_train)\n",
    "\n",
    "dummy_pred = dummy_clf.predict(X_valid)\n",
    "dummy_f1 = f1_score(y_valid, dummy_pred)\n",
    "\n",
    "# F1 на тестовых данных\n",
    "print(f'Метрика F1 на тестовой выборке в DummyClassifier: {dummy_f1:.3f}')"
   ]
  },
  {
   "cell_type": "code",
   "execution_count": 266,
   "id": "f92ff8ca-c3f6-4b8b-aada-e9a2ebc9ad3b",
   "metadata": {},
   "outputs": [
    {
     "name": "stdout",
     "output_type": "stream",
     "text": [
      "Размер подготовленных данных:\n"
     ]
    },
    {
     "data": {
      "text/html": [
       "<div>\n",
       "<style scoped>\n",
       "    .dataframe tbody tr th:only-of-type {\n",
       "        vertical-align: middle;\n",
       "    }\n",
       "\n",
       "    .dataframe tbody tr th {\n",
       "        vertical-align: top;\n",
       "    }\n",
       "\n",
       "    .dataframe thead th {\n",
       "        text-align: right;\n",
       "    }\n",
       "</style>\n",
       "<table border=\"1\" class=\"dataframe\">\n",
       "  <thead>\n",
       "    <tr style=\"text-align: right;\">\n",
       "      <th></th>\n",
       "      <th>Входные признаки(X)</th>\n",
       "      <th>Целевой признак(y)</th>\n",
       "    </tr>\n",
       "  </thead>\n",
       "  <tbody>\n",
       "    <tr>\n",
       "      <th>Тренировочные данные</th>\n",
       "      <td>(39379, 26)</td>\n",
       "      <td>(39379,)</td>\n",
       "    </tr>\n",
       "    <tr>\n",
       "      <th>Тестовые данные</th>\n",
       "      <td>(13127, 26)</td>\n",
       "      <td>(13127,)</td>\n",
       "    </tr>\n",
       "  </tbody>\n",
       "</table>\n",
       "</div>"
      ],
      "text/plain": [
       "                     Входные признаки(X) Целевой признак(y)\n",
       "Тренировочные данные         (39379, 26)           (39379,)\n",
       "Тестовые данные              (13127, 26)           (13127,)"
      ]
     },
     "metadata": {},
     "output_type": "display_data"
    },
    {
     "name": "stdout",
     "output_type": "stream",
     "text": [
      "\n",
      "Анализ лучших метрик с разным количеством признаков:\n"
     ]
    },
    {
     "data": {
      "text/html": [
       "<div>\n",
       "<style scoped>\n",
       "    .dataframe tbody tr th:only-of-type {\n",
       "        vertical-align: middle;\n",
       "    }\n",
       "\n",
       "    .dataframe tbody tr th {\n",
       "        vertical-align: top;\n",
       "    }\n",
       "\n",
       "    .dataframe thead th {\n",
       "        text-align: right;\n",
       "    }\n",
       "</style>\n",
       "<table border=\"1\" class=\"dataframe\">\n",
       "  <thead>\n",
       "    <tr style=\"text-align: right;\">\n",
       "      <th></th>\n",
       "      <th>количество_признаков</th>\n",
       "      <th>среднее_F1_train_CV</th>\n",
       "      <th>ст_отклонение_train_CV</th>\n",
       "      <th>F1_valid</th>\n",
       "    </tr>\n",
       "  </thead>\n",
       "  <tbody>\n",
       "    <tr>\n",
       "      <th>0</th>\n",
       "      <td>1</td>\n",
       "      <td>0.91650</td>\n",
       "      <td>0.00140</td>\n",
       "      <td>0.91896</td>\n",
       "    </tr>\n",
       "    <tr>\n",
       "      <th>1</th>\n",
       "      <td>2</td>\n",
       "      <td>0.91516</td>\n",
       "      <td>0.00141</td>\n",
       "      <td>0.91706</td>\n",
       "    </tr>\n",
       "    <tr>\n",
       "      <th>2</th>\n",
       "      <td>3</td>\n",
       "      <td>0.91531</td>\n",
       "      <td>0.00147</td>\n",
       "      <td>0.91715</td>\n",
       "    </tr>\n",
       "    <tr>\n",
       "      <th>3</th>\n",
       "      <td>4</td>\n",
       "      <td>0.91531</td>\n",
       "      <td>0.00147</td>\n",
       "      <td>0.91715</td>\n",
       "    </tr>\n",
       "    <tr>\n",
       "      <th>4</th>\n",
       "      <td>5</td>\n",
       "      <td>0.91531</td>\n",
       "      <td>0.00147</td>\n",
       "      <td>0.91715</td>\n",
       "    </tr>\n",
       "    <tr>\n",
       "      <th>5</th>\n",
       "      <td>6</td>\n",
       "      <td>0.91531</td>\n",
       "      <td>0.00147</td>\n",
       "      <td>0.91715</td>\n",
       "    </tr>\n",
       "    <tr>\n",
       "      <th>6</th>\n",
       "      <td>7</td>\n",
       "      <td>0.91531</td>\n",
       "      <td>0.00147</td>\n",
       "      <td>0.91715</td>\n",
       "    </tr>\n",
       "    <tr>\n",
       "      <th>7</th>\n",
       "      <td>8</td>\n",
       "      <td>0.91531</td>\n",
       "      <td>0.00147</td>\n",
       "      <td>0.91715</td>\n",
       "    </tr>\n",
       "    <tr>\n",
       "      <th>8</th>\n",
       "      <td>9</td>\n",
       "      <td>0.91531</td>\n",
       "      <td>0.00147</td>\n",
       "      <td>0.91715</td>\n",
       "    </tr>\n",
       "    <tr>\n",
       "      <th>9</th>\n",
       "      <td>10</td>\n",
       "      <td>0.91531</td>\n",
       "      <td>0.00147</td>\n",
       "      <td>0.91715</td>\n",
       "    </tr>\n",
       "    <tr>\n",
       "      <th>10</th>\n",
       "      <td>11</td>\n",
       "      <td>0.91531</td>\n",
       "      <td>0.00147</td>\n",
       "      <td>0.91720</td>\n",
       "    </tr>\n",
       "    <tr>\n",
       "      <th>11</th>\n",
       "      <td>12</td>\n",
       "      <td>0.91531</td>\n",
       "      <td>0.00147</td>\n",
       "      <td>0.91720</td>\n",
       "    </tr>\n",
       "    <tr>\n",
       "      <th>12</th>\n",
       "      <td>13</td>\n",
       "      <td>0.91065</td>\n",
       "      <td>0.01038</td>\n",
       "      <td>0.91720</td>\n",
       "    </tr>\n",
       "    <tr>\n",
       "      <th>13</th>\n",
       "      <td>14</td>\n",
       "      <td>0.91077</td>\n",
       "      <td>0.01016</td>\n",
       "      <td>0.91720</td>\n",
       "    </tr>\n",
       "    <tr>\n",
       "      <th>14</th>\n",
       "      <td>15</td>\n",
       "      <td>0.89862</td>\n",
       "      <td>0.00816</td>\n",
       "      <td>0.89625</td>\n",
       "    </tr>\n",
       "    <tr>\n",
       "      <th>15</th>\n",
       "      <td>16</td>\n",
       "      <td>0.89956</td>\n",
       "      <td>0.00767</td>\n",
       "      <td>0.89723</td>\n",
       "    </tr>\n",
       "    <tr>\n",
       "      <th>16</th>\n",
       "      <td>17</td>\n",
       "      <td>0.90132</td>\n",
       "      <td>0.00682</td>\n",
       "      <td>0.89949</td>\n",
       "    </tr>\n",
       "    <tr>\n",
       "      <th>17</th>\n",
       "      <td>18</td>\n",
       "      <td>0.90013</td>\n",
       "      <td>0.00270</td>\n",
       "      <td>0.90205</td>\n",
       "    </tr>\n",
       "    <tr>\n",
       "      <th>18</th>\n",
       "      <td>19</td>\n",
       "      <td>0.90077</td>\n",
       "      <td>0.00250</td>\n",
       "      <td>0.90253</td>\n",
       "    </tr>\n",
       "    <tr>\n",
       "      <th>19</th>\n",
       "      <td>20</td>\n",
       "      <td>0.90369</td>\n",
       "      <td>0.00572</td>\n",
       "      <td>0.90229</td>\n",
       "    </tr>\n",
       "    <tr>\n",
       "      <th>20</th>\n",
       "      <td>21</td>\n",
       "      <td>0.90366</td>\n",
       "      <td>0.00569</td>\n",
       "      <td>0.90229</td>\n",
       "    </tr>\n",
       "    <tr>\n",
       "      <th>21</th>\n",
       "      <td>22</td>\n",
       "      <td>0.90498</td>\n",
       "      <td>0.00584</td>\n",
       "      <td>0.90229</td>\n",
       "    </tr>\n",
       "    <tr>\n",
       "      <th>22</th>\n",
       "      <td>23</td>\n",
       "      <td>0.90509</td>\n",
       "      <td>0.00593</td>\n",
       "      <td>0.90272</td>\n",
       "    </tr>\n",
       "    <tr>\n",
       "      <th>23</th>\n",
       "      <td>24</td>\n",
       "      <td>0.90344</td>\n",
       "      <td>0.00418</td>\n",
       "      <td>0.90314</td>\n",
       "    </tr>\n",
       "    <tr>\n",
       "      <th>24</th>\n",
       "      <td>25</td>\n",
       "      <td>0.90346</td>\n",
       "      <td>0.00417</td>\n",
       "      <td>0.90953</td>\n",
       "    </tr>\n",
       "    <tr>\n",
       "      <th>25</th>\n",
       "      <td>26</td>\n",
       "      <td>0.90282</td>\n",
       "      <td>0.00473</td>\n",
       "      <td>0.90953</td>\n",
       "    </tr>\n",
       "  </tbody>\n",
       "</table>\n",
       "</div>"
      ],
      "text/plain": [
       "    количество_признаков  среднее_F1_train_CV  ст_отклонение_train_CV  \\\n",
       "0                      1              0.91650                 0.00140   \n",
       "1                      2              0.91516                 0.00141   \n",
       "2                      3              0.91531                 0.00147   \n",
       "3                      4              0.91531                 0.00147   \n",
       "4                      5              0.91531                 0.00147   \n",
       "5                      6              0.91531                 0.00147   \n",
       "6                      7              0.91531                 0.00147   \n",
       "7                      8              0.91531                 0.00147   \n",
       "8                      9              0.91531                 0.00147   \n",
       "9                     10              0.91531                 0.00147   \n",
       "10                    11              0.91531                 0.00147   \n",
       "11                    12              0.91531                 0.00147   \n",
       "12                    13              0.91065                 0.01038   \n",
       "13                    14              0.91077                 0.01016   \n",
       "14                    15              0.89862                 0.00816   \n",
       "15                    16              0.89956                 0.00767   \n",
       "16                    17              0.90132                 0.00682   \n",
       "17                    18              0.90013                 0.00270   \n",
       "18                    19              0.90077                 0.00250   \n",
       "19                    20              0.90369                 0.00572   \n",
       "20                    21              0.90366                 0.00569   \n",
       "21                    22              0.90498                 0.00584   \n",
       "22                    23              0.90509                 0.00593   \n",
       "23                    24              0.90344                 0.00418   \n",
       "24                    25              0.90346                 0.00417   \n",
       "25                    26              0.90282                 0.00473   \n",
       "\n",
       "    F1_valid  \n",
       "0    0.91896  \n",
       "1    0.91706  \n",
       "2    0.91715  \n",
       "3    0.91715  \n",
       "4    0.91715  \n",
       "5    0.91715  \n",
       "6    0.91715  \n",
       "7    0.91715  \n",
       "8    0.91715  \n",
       "9    0.91715  \n",
       "10   0.91720  \n",
       "11   0.91720  \n",
       "12   0.91720  \n",
       "13   0.91720  \n",
       "14   0.89625  \n",
       "15   0.89723  \n",
       "16   0.89949  \n",
       "17   0.90205  \n",
       "18   0.90253  \n",
       "19   0.90229  \n",
       "20   0.90229  \n",
       "21   0.90229  \n",
       "22   0.90272  \n",
       "23   0.90314  \n",
       "24   0.90953  \n",
       "25   0.90953  "
      ]
     },
     "metadata": {},
     "output_type": "display_data"
    },
    {
     "name": "stdout",
     "output_type": "stream",
     "text": [
      "\n",
      "Пять лучших результатов метрики с сортировкой:\n"
     ]
    },
    {
     "data": {
      "text/html": [
       "<div>\n",
       "<style scoped>\n",
       "    .dataframe tbody tr th:only-of-type {\n",
       "        vertical-align: middle;\n",
       "    }\n",
       "\n",
       "    .dataframe tbody tr th {\n",
       "        vertical-align: top;\n",
       "    }\n",
       "\n",
       "    .dataframe thead th {\n",
       "        text-align: right;\n",
       "    }\n",
       "</style>\n",
       "<table border=\"1\" class=\"dataframe\">\n",
       "  <thead>\n",
       "    <tr style=\"text-align: right;\">\n",
       "      <th></th>\n",
       "      <th>количество_признаков</th>\n",
       "      <th>среднее_F1_train_CV</th>\n",
       "      <th>ст_отклонение_train_CV</th>\n",
       "      <th>F1_valid</th>\n",
       "    </tr>\n",
       "  </thead>\n",
       "  <tbody>\n",
       "    <tr>\n",
       "      <th>0</th>\n",
       "      <td>1</td>\n",
       "      <td>0.91650</td>\n",
       "      <td>0.00140</td>\n",
       "      <td>0.91896</td>\n",
       "    </tr>\n",
       "    <tr>\n",
       "      <th>10</th>\n",
       "      <td>11</td>\n",
       "      <td>0.91531</td>\n",
       "      <td>0.00147</td>\n",
       "      <td>0.91720</td>\n",
       "    </tr>\n",
       "    <tr>\n",
       "      <th>11</th>\n",
       "      <td>12</td>\n",
       "      <td>0.91531</td>\n",
       "      <td>0.00147</td>\n",
       "      <td>0.91720</td>\n",
       "    </tr>\n",
       "    <tr>\n",
       "      <th>13</th>\n",
       "      <td>14</td>\n",
       "      <td>0.91077</td>\n",
       "      <td>0.01016</td>\n",
       "      <td>0.91720</td>\n",
       "    </tr>\n",
       "    <tr>\n",
       "      <th>12</th>\n",
       "      <td>13</td>\n",
       "      <td>0.91065</td>\n",
       "      <td>0.01038</td>\n",
       "      <td>0.91720</td>\n",
       "    </tr>\n",
       "  </tbody>\n",
       "</table>\n",
       "</div>"
      ],
      "text/plain": [
       "    количество_признаков  среднее_F1_train_CV  ст_отклонение_train_CV  \\\n",
       "0                      1              0.91650                 0.00140   \n",
       "10                    11              0.91531                 0.00147   \n",
       "11                    12              0.91531                 0.00147   \n",
       "13                    14              0.91077                 0.01016   \n",
       "12                    13              0.91065                 0.01038   \n",
       "\n",
       "    F1_valid  \n",
       "0    0.91896  \n",
       "10   0.91720  \n",
       "11   0.91720  \n",
       "13   0.91720  \n",
       "12   0.91720  "
      ]
     },
     "metadata": {},
     "output_type": "display_data"
    }
   ],
   "source": [
    "# используем pipeline для подготовки данных\n",
    "X_train_pr = data_preprocessor.fit_transform(X_train)\n",
    "X_valid_pr = data_preprocessor.transform(X_valid)\n",
    "\n",
    "# создадим список признаков после процесса кодирования\n",
    "names_ohe = data_preprocessor.transformers_[0][1]['ohe'].get_feature_names_out(cat_columns)\n",
    "columns_full = names_ohe.tolist() + num_columns\n",
    "\n",
    "# датафреймы подготовленных данных с входными признаками\n",
    "X_train_pr = pd.DataFrame(X_train_pr, columns=columns_full)\n",
    "X_valid_pr = pd.DataFrame(X_valid_pr, columns=columns_full)\n",
    "\n",
    "# размер получившихся данных после подготовки\n",
    "print('Размер подготовленных данных:')\n",
    "display(pd.DataFrame(\n",
    "    data={\n",
    "        'Входные признаки(X)': [X_train_pr.shape, X_valid_pr.shape],\n",
    "        'Целевой признак(y)': [y_train.shape, y_valid.shape]\n",
    "    }, \n",
    "    index=['Тренировочные данные', 'Тестовые данные']\n",
    "))\n",
    "print()\n",
    "\n",
    "# инициализируем лучшую модель\n",
    "model_log = LogisticRegression(\n",
    "    max_iter=2000,\n",
    "    class_weight='balanced',\n",
    "    random_state=RANDOM_STATE\n",
    ")\n",
    "\n",
    "# списки для внесения в них данных\n",
    "k_qty=[]\n",
    "score_train_mean=[]\n",
    "score_train_std=[]\n",
    "score_valid=[]\n",
    "\n",
    "# проведем поиск лучшего набора признаков \n",
    "for i in range(len(X_train_pr.columns)):\n",
    "    selector = SelectKBest(f_classif, k=i+1)\n",
    "    selector.fit(X_train_pr, y_train)\n",
    "    \n",
    "    features_names = X_train_pr.columns[selector.get_support(indices=True)]\n",
    "    \n",
    "    X_train_sel = X_train_pr[list(features_names)]\n",
    "    X_valid_sel = X_valid_pr[list(features_names)]\n",
    "    \n",
    "    result_train = cross_val_score(model_log, X_train_sel, y_train, cv=5, scoring='f1')\n",
    "    \n",
    "    model_log.fit(X_train_sel, y_train)\n",
    "    y_pred = model_log.predict(X_valid_sel)\n",
    "    result_valid = f1_score(y_valid, y_pred)\n",
    "    \n",
    "    k_qty.append(i+1)\n",
    "    score_train_mean.append(result_train.mean())\n",
    "    score_train_std.append(result_train.std())\n",
    "    score_valid.append(result_valid)\n",
    "\n",
    "# сохраним результаты анализа\n",
    "SelectKBest_overview = pd.DataFrame(\n",
    "                                    data={\n",
    "                                        'количество_признаков': k_qty,\n",
    "                                        'среднее_F1_train_CV': score_train_mean,\n",
    "                                        'ст_отклонение_train_CV': score_train_std,\n",
    "                                        'F1_valid': score_valid\n",
    "                                    })\n",
    "\n",
    "# результаты\n",
    "print('Анализ лучших метрик с разным количеством признаков:')\n",
    "pd.options.display.float_format ='{:,.5f}'.format\n",
    "display(SelectKBest_overview)\n",
    "print()\n",
    "\n",
    "# сортируем результаты\n",
    "print('Пять лучших результатов метрики с сортировкой:')\n",
    "display(SelectKBest_overview\n",
    "        .sort_values(\n",
    "            by=['F1_valid', 'среднее_F1_train_CV', 'количество_признаков'],\n",
    "            ascending=[False, False, True])\n",
    "        .head(5)\n",
    ")\n",
    "pd.options.display.float_format ='{:,.2f}'.format"
   ]
  },
  {
   "cell_type": "code",
   "execution_count": 268,
   "id": "e759cfbc-890b-4c3f-84f0-ba4a994b2ebc",
   "metadata": {},
   "outputs": [
    {
     "name": "stdout",
     "output_type": "stream",
     "text": [
      "Список лучших признаков:\n"
     ]
    },
    {
     "data": {
      "text/plain": [
       "['geo_region_East Asia',\n",
       " 'geo_region_North America',\n",
       " 'geo_region_Northern Asia',\n",
       " 'geo_region_South Asia',\n",
       " 'geo_region_South East Asia',\n",
       " 'geo_region_South West Asia',\n",
       " 'geo_region_South West Europe',\n",
       " 'geo_region_Southern Europe',\n",
       " 'geo_region_Western Europe',\n",
       " 'geo_region_no_region',\n",
       " 'funding_total_usd',\n",
       " 'funding_rounds']"
      ]
     },
     "metadata": {},
     "output_type": "display_data"
    },
    {
     "name": "stdout",
     "output_type": "stream",
     "text": [
      "\n",
      "Список наименее важных признаков:\n",
      "['geo_region_Indian Ocean', 'geo_region_Pacific', 'geo_region_Western Africa', 'geo_region_Central America', 'geo_region_Central Asia', 'geo_region_West Indies', 'geo_region_Northern Europe', 'geo_region_Central Europe', 'geo_region_South America', 'geo_region_Northern Africa', 'geo_region_Eastern Africa', 'geo_region_Eastern Europe', 'geo_region_South East Europe', 'geo_region_Southern Africa']\n",
      "\n"
     ]
    }
   ],
   "source": [
    "# количество признаков для получения лучшей метрики\n",
    "k_best = 12\n",
    "\n",
    "# селектор с нужными параметрами\n",
    "selector = SelectKBest(f_classif, k=k_best)\n",
    "\n",
    "# обучение\n",
    "selector.fit(X_train_pr, y_train)\n",
    "\n",
    "# список с лучшими признаками\n",
    "features_names = X_train_pr.columns[selector.get_support(indices=True)]\n",
    "\n",
    "# новый набор данных\n",
    "X_train_sel = X_train_pr[list(features_names)]\n",
    "X_valid_sel = X_valid_pr[list(features_names)]\n",
    "\n",
    "# список лучших признаков\n",
    "print('Список лучших признаков:')\n",
    "display(features_names.tolist())\n",
    "print()\n",
    "\n",
    "# список наименее важных признаков\n",
    "print('Список наименее важных признаков:')\n",
    "print(list(set(X_train_pr.columns) - set(features_names)))\n",
    "print()"
   ]
  },
  {
   "cell_type": "code",
   "execution_count": 113,
   "id": "4dfe33b3-7904-433c-a155-120b0e78a118",
   "metadata": {},
   "outputs": [
    {
     "data": {
      "text/html": [
       "<div>\n",
       "<style scoped>\n",
       "    .dataframe tbody tr th:only-of-type {\n",
       "        vertical-align: middle;\n",
       "    }\n",
       "\n",
       "    .dataframe tbody tr th {\n",
       "        vertical-align: top;\n",
       "    }\n",
       "\n",
       "    .dataframe thead th {\n",
       "        text-align: right;\n",
       "    }\n",
       "</style>\n",
       "<table border=\"1\" class=\"dataframe\">\n",
       "  <thead>\n",
       "    <tr style=\"text-align: right;\">\n",
       "      <th></th>\n",
       "      <th>Threshold</th>\n",
       "      <th>F1-score</th>\n",
       "    </tr>\n",
       "  </thead>\n",
       "  <tbody>\n",
       "    <tr>\n",
       "      <th>0</th>\n",
       "      <td>0.10000</td>\n",
       "      <td>0.95152</td>\n",
       "    </tr>\n",
       "    <tr>\n",
       "      <th>1</th>\n",
       "      <td>0.12000</td>\n",
       "      <td>0.95152</td>\n",
       "    </tr>\n",
       "    <tr>\n",
       "      <th>2</th>\n",
       "      <td>0.14000</td>\n",
       "      <td>0.95152</td>\n",
       "    </tr>\n",
       "    <tr>\n",
       "      <th>3</th>\n",
       "      <td>0.15000</td>\n",
       "      <td>0.95058</td>\n",
       "    </tr>\n",
       "    <tr>\n",
       "      <th>4</th>\n",
       "      <td>0.17000</td>\n",
       "      <td>0.95006</td>\n",
       "    </tr>\n",
       "  </tbody>\n",
       "</table>\n",
       "</div>"
      ],
      "text/plain": [
       "   Threshold  F1-score\n",
       "0    0.10000   0.95152\n",
       "1    0.12000   0.95152\n",
       "2    0.14000   0.95152\n",
       "3    0.15000   0.95058\n",
       "4    0.17000   0.95006"
      ]
     },
     "metadata": {},
     "output_type": "display_data"
    }
   ],
   "source": [
    "# обучаю модель\n",
    "model_log.fit(X_train_sel, y_train)\n",
    "\n",
    "# получаем оценки вероятностей для класса\n",
    "y_proba = model_log.predict_proba(X_valid_sel)\n",
    "\n",
    "# создаю список пробных порогов классификации\n",
    "thresholds = [round(i,2) for i in np.linspace(0.1, 1, num = 50, endpoint=False)]\n",
    "\n",
    "# создаю пустые списки для сохранение промежуточных значений метрик\n",
    "col_threshold=[]\n",
    "col_f1_score=[]\n",
    "\n",
    "# циклом рассчитываю метрики при разных значениях порога\n",
    "for i in thresholds:\n",
    "    # определяю принадлежность классам на основе порога\n",
    "    proba = (y_proba[:, 1] >= i).astype(int)\n",
    "\n",
    "    # вношу значения метрик в списки\n",
    "    col_threshold.append(i)\n",
    "    col_f1_score.append(round(f1_score(y_valid, proba), 5))\n",
    "\n",
    "    # завершаю работу цикла, если f1 стала равна 100%\n",
    "    if f1_score(y_valid, proba) == 1:\n",
    "        break\n",
    "\n",
    "pd.options.display.float_format ='{:,.5f}'.format\n",
    "\n",
    "# помещаю результаты в датафрейм и вывожу результаты на экран\n",
    "result = pd.DataFrame({'Threshold' : col_threshold, \n",
    "                      'F1-score' : col_f1_score\n",
    "                     })\n",
    "\n",
    "# вывожу 5 лучших результатов на экран с сортировкой по убыванию\n",
    "display(result\n",
    "        .sort_values(by='F1-score', ascending=False)\n",
    "        .head(5)\n",
    ")\n",
    "\n",
    "pd.options.display.float_format ='{:,.2f}'.format"
   ]
  },
  {
   "cell_type": "markdown",
   "id": "84dbb748-daa7-4edd-9b89-fa31f7caf5d6",
   "metadata": {},
   "source": [
    "# Итоговая оценка качества предсказания лучшей модели #"
   ]
  },
  {
   "cell_type": "code",
   "execution_count": 218,
   "id": "7b67b9fe-1581-4620-9949-28b49e253b46",
   "metadata": {},
   "outputs": [
    {
     "name": "stdout",
     "output_type": "stream",
     "text": [
      "Метрика F1 для лучшей модели c лучшими признаками\n",
      "- метрика F1 на валидационной выборке: 91.996%\n",
      "\n",
      "Матрица ошибок:\n"
     ]
    },
    {
     "data": {
      "image/png": "[encoded data removed]",
      "text/plain": [
       "<Figure size 640x480 with 2 Axes>"
      ]
     },
     "metadata": {},
     "output_type": "display_data"
    },
    {
     "name": "stdout",
     "output_type": "stream",
     "text": [
      "\n"
     ]
    }
   ],
   "source": [
    "# задаю порог классификации\n",
    "threshold = 0.33\n",
    "\n",
    "# определяю принадлежность классам на основе порога\n",
    "y_pred_adj = (y_proba[:, 1] >= threshold).astype(int)\n",
    "\n",
    "# считаю метрику F1 на валидационной выборке\n",
    "result_valid = f1_score(y_valid, y_pred_adj)\n",
    "\n",
    "# вывожу на экран результаты\n",
    "print('Метрика F1 для лучшей модели c лучшими признаками')\n",
    "print(f'- метрика F1 на валидационной выборке: {result_valid * 100:.3f}%')\n",
    "print()\n",
    "\n",
    "# подготавливаю матрицу ошибок и вывожу её на экран\n",
    "cm = confusion_matrix(y_valid, y_pred_adj)\n",
    "sns.heatmap(cm, annot=True, fmt='d', cmap='Blues_r').set_title('Confusion matrix \\n')\n",
    "plt.ylabel('True label \\n')\n",
    "plt.xlabel('\\n Predicted')\n",
    "print('Матрица ошибок:')\n",
    "plt.show()\n",
    "print()"
   ]
  },
  {
   "cell_type": "code",
   "execution_count": 224,
   "id": "536b6f66-86a3-4a25-9a99-d4de60665eaa",
   "metadata": {},
   "outputs": [
    {
     "name": "stderr",
     "output_type": "stream",
     "text": [
      "C:\\Users\\pegof\\anaconda3\\Lib\\site-packages\\sklearn\\preprocessing\\_encoders.py:242: UserWarning: Found unknown categories in columns [0] during transform. These unknown categories will be encoded as all zeros\n",
      "  warnings.warn(\n"
     ]
    },
    {
     "data": {
      "text/html": [
       "<div>\n",
       "<style scoped>\n",
       "    .dataframe tbody tr th:only-of-type {\n",
       "        vertical-align: middle;\n",
       "    }\n",
       "\n",
       "    .dataframe tbody tr th {\n",
       "        vertical-align: top;\n",
       "    }\n",
       "\n",
       "    .dataframe thead th {\n",
       "        text-align: right;\n",
       "    }\n",
       "</style>\n",
       "<table border=\"1\" class=\"dataframe\">\n",
       "  <thead>\n",
       "    <tr style=\"text-align: right;\">\n",
       "      <th></th>\n",
       "      <th>name</th>\n",
       "      <th>status</th>\n",
       "    </tr>\n",
       "  </thead>\n",
       "  <tbody>\n",
       "    <tr>\n",
       "      <th>1601</th>\n",
       "      <td>Logentries</td>\n",
       "      <td>operating</td>\n",
       "    </tr>\n",
       "    <tr>\n",
       "      <th>5427</th>\n",
       "      <td>HelpCrunch</td>\n",
       "      <td>operating</td>\n",
       "    </tr>\n",
       "    <tr>\n",
       "      <th>12378</th>\n",
       "      <td>LittleFoot Energy Finance</td>\n",
       "      <td>operating</td>\n",
       "    </tr>\n",
       "    <tr>\n",
       "      <th>3130</th>\n",
       "      <td>Next Points</td>\n",
       "      <td>operating</td>\n",
       "    </tr>\n",
       "    <tr>\n",
       "      <th>5543</th>\n",
       "      <td>WorkAmerica</td>\n",
       "      <td>operating</td>\n",
       "    </tr>\n",
       "  </tbody>\n",
       "</table>\n",
       "</div>"
      ],
      "text/plain": [
       "                            name     status\n",
       "1601                  Logentries  operating\n",
       "5427                  HelpCrunch  operating\n",
       "12378  LittleFoot Energy Finance  operating\n",
       "3130                 Next Points  operating\n",
       "5543                 WorkAmerica  operating"
      ]
     },
     "metadata": {},
     "output_type": "display_data"
    },
    {
     "name": "stdout",
     "output_type": "stream",
     "text": [
      "Количество объектов каждого статуса в df_test\n"
     ]
    },
    {
     "data": {
      "text/plain": [
       "status\n",
       "operating    13038\n",
       "closed          87\n",
       "Name: count, dtype: int64"
      ]
     },
     "metadata": {},
     "output_type": "display_data"
    }
   ],
   "source": [
    "# входные и целевой признаки\n",
    "X_test = data_test.drop([\n",
    "    #'name', \n",
    "    #'category_list', \n",
    "    #'funding_total_usd', \n",
    "    #'country_code',\n",
    "    #'state_code', \n",
    "    #'region', \n",
    "    #'city', \n",
    "    #'funding_rounds', \n",
    "    #'first_funding_at', \n",
    "    #'last_funding_at', \n",
    "    #'lifetime',\n",
    "    #'geo_region',\n",
    "    ], axis=1).copy()\n",
    "y = data_train['status'].copy()\n",
    "\n",
    "# применим pipeline для подготовки данных\n",
    "X_test_pr = data_preprocessor.transform(X_test)\n",
    "\n",
    "# список признаков после процесса кодирования\n",
    "names_ohe = data_preprocessor.transformers_[0][1]['ohe'].get_feature_names_out(cat_columns)\n",
    "columns_full = names_ohe.tolist() + num_columns\n",
    "\n",
    "# датафреймы подготовленных данных с входными признаками\n",
    "X_test_pr = pd.DataFrame(X_test_pr, columns=columns_full)\n",
    "\n",
    "# новый набор данных c лучшими колонками\n",
    "X_test_sel = X_test_pr[list(features_names)]\n",
    "\n",
    "# предсказания\n",
    "y_test = model_log.predict(X_test_sel)\n",
    "\n",
    "# датафрейм с предсказаниями\n",
    "data_result = pd.DataFrame(\n",
    "    data={\n",
    "        'name': data_test['name'],\n",
    "        'status': ['operating' if x == 1 else 'closed' for x in y_test]\n",
    "    }\n",
    ")\n",
    "\n",
    "# валидизация результата\n",
    "display(data_result.sample(5))\n",
    "\n",
    "# доля значений в колонке status\n",
    "print('Количество объектов каждого статуса в df_test')\n",
    "display(data_result['status'].value_counts())\n",
    "\n",
    "# csv файл\n",
    "#data_result.to_csv('startups_submit_predict_lr.csv', index=False)"
   ]
  },
  {
   "cell_type": "markdown",
   "id": "7c74d065-2407-4dac-a443-410dfad878c6",
   "metadata": {},
   "source": [
    "<div class=\"alert alert-block alert-info\">\n",
    "Шаг 7. Анализ важности признаков\n",
    "</div>"
   ]
  },
  {
   "cell_type": "code",
   "execution_count": 226,
   "id": "fda2f22f-ed93-45d7-9eaf-aed0127b9215",
   "metadata": {},
   "outputs": [
    {
     "name": "stderr",
     "output_type": "stream",
     "text": [
      "PermutationExplainer explainer: 13128it [04:40, 45.23it/s]                                                             \n"
     ]
    }
   ],
   "source": [
    "# инициализируем Explainer(), считаем значения SHAP\n",
    "explainer = shap.Explainer(model_log.predict_proba, X_valid_sel)\n",
    "shap_values = explainer(X_valid_sel)"
   ]
  },
  {
   "cell_type": "code",
   "execution_count": 228,
   "id": "36cd8d28-3332-4a56-9166-f9cc0ea9d2ac",
   "metadata": {},
   "outputs": [
    {
     "data": {
      "image/png": "[encoded data removed]",
      "text/plain": [
       "<Figure size 800x630 with 2 Axes>"
      ]
     },
     "metadata": {},
     "output_type": "display_data"
    }
   ],
   "source": [
    "# диаграмма beeswarm\n",
    "(\n",
    "    shap.plots\n",
    "    .beeswarm(shap_values[:,:,1], max_display=k_best, show=False)\n",
    "    .set_title('Диаграмма beeswarm по значениям Шепли \\n')\n",
    ")\n",
    "\n",
    "plt.ylabel('Наиболее важные признаки \\n')\n",
    "plt.show()"
   ]
  },
  {
   "cell_type": "markdown",
   "id": "c64299ba-71ac-4e05-a01a-32d01a12e38d",
   "metadata": {},
   "source": [
    "<div class=\"alert alert-block alert-info\">\n",
    "Шаг 8. Отчет по результатам исследования\n",
    "</div>"
   ]
  },
  {
   "cell_type": "markdown",
   "id": "4908080b-bd1a-4c7d-b775-2cf17182c854",
   "metadata": {},
   "source": [
    "Требовалось решить следующие задачи:\n",
    "\n",
    "Разработать модель машинного обучения для предсказания продолжения деятельности стартапа.\n",
    "Провести разведочный анализ и сформировать рекомендации будущим создателям стартапов (какие факторы влияют на итоговый успех).\n",
    "\n",
    "Датафрейм data_train состоит из 52 514 строк и 13 столбцов, имеет колонки с пропусками.\n",
    "Датафрейм data_test состоит из 13 125 строк и 12 столбцов, имеет колонки с пропусками.\n",
    "\n",
    "В тренировочных данных есть колонка 'closed_at' а в тестовых ее нет, но добавлена 'lifetime'.\n",
    "\n",
    "В процессе предобработки данных:\n",
    "\n",
    "наименования колонок не требовали преобразования;\n",
    "обнаружены и заменены все пропуски;\n",
    "исправлены типы данных;\n",
    "явных дубликатов, требующих дополнительной обработки не обнаружено.   \n",
    "добавлены новые колонки: 'geo_region'\n",
    "\n",
    "Исследовательский анализ\n",
    "\n",
    "проведён исследовательский анализ признаков \n",
    "ключевые признаки рассмотрены в абсолютных и относительных величинах  \n",
    "проведён корреляционный анализ для тренировочного и тестового датафреймов\n",
    "\n",
    "\n",
    "Обнаруженные особенности:\n",
    "\n",
    "Распределение признаков\r\n",
    "\r\n",
    "У таргета присутствует диссбаланс (91% - operating, 9% - closed). Порядка 70% стартапов находяться в Северной Америки, 17% - в Европе, 10% - в Азии. Больше всего стартапов в США, Англии и Канаде. Россия за пределами топ-10 в этот период. Что касается городов, то 10 лидеров: San Francisco: 2824 New York: 2486 London: 1514 Austin: 609 Palo Alto: 605 Los Angeles: 604 Seattle: 592 Chicago: 546 Cambridge: 542 Boston: 508\r\n",
    "\r\n",
    "Количество стартапов начало значительно увеличиваться с 2000 года, причем видно существенное снижение с 2013 по 2015 года. Если разделять по статусам, то заметно, что число закрытых стартапов также начало увеличиваться с 2000 года, заметен небольшой пик с 2006 года и с 2014 го. Более массированные инвестиции пошли с 2008 года, причем отметим спад с 2014 по 2015 года.\r\n",
    "\r\n",
    "В среднем, сумма инвенстирования сотсавляет 7,5 млн, а медианное значение в районе 2 млн. В среднем стартапы существуют 2557 дней. 33478 стартапов имели 1 раунд финансирования (это около 64% от общего числа раудов, всего 19) Больше всего категорий стартапов Biotechnology и Software.\r\n",
    "\r\n",
    "Корреляционный анализ\r\n",
    "\r\n",
    "Отметим заметную связь географических признаков, связь целевого признака с локацией и количеством раундов, а также связь объема финанирования со специализацияей стартапа.\n",
    "\n",
    "Выполнена подготовка данных для применениях в моделях машинного обучения с помощью пайплайнов. Проведена замена целевого признака с помощью LabelEncoder.\n",
    "\n",
    "В рамках решения задачи классификации - прогнозирование статуса стартапа, были выбраны и обучены 3 модели: LogisticRegression, kNN, DecisionTreeClassifier. Поиск гиперпараметров вёлся с помощью OptunaSearchCV. Метрика считалась на кросс-валидации. Лучшей модельюkNN регрессия. Для достоверности проведена сравнительная оценка модели с условной baseline моделью DummyCl  тив 0.951.\n",
    "\n",
    "Выполнен поиск лучших признаков, которые дают максимальное значение мела 99,91%.\n",
    "\n",
    "Построена матрица ошибок для полученной модели со следующими результатами:\n",
    "\n",
    "истинно положительные предсказания (стартап работает и модель0891а): 11 613\n",
    "ложноположительные предсказания (стартап закрылся и модель о873блась): 21\n",
    "истинно отрицательные предсказания(стартап закрылся и модел341ава): 1165\n",
    "ложноотрицательные предсказания(стартап работает и модель о1022иббучения.\n",
    "\n",
    "Проведена интерпретация признаков с помощью значений Шепли:\n",
    "\n",
    "самыми значимыми признакамиifetime rounds и funding_total_usdederating');\n",
    "также заметное влияние на результат предсказания модели оказываю е 3 и geo__no_region. С их положительным значением растёт шанс предсказания закрытия   признаки.\n",
    "\n",
    "Выполненная работа над проектом позволяет составить некоторые рекомосновная часть стартапово датасета находятся в странах североамериканского и западноевропейско, чтогиона. Что адаптированной для новых компаний инфратруктурес сфера высокотехнологичных производств и услугю(т в сфере биитеitприложений,ая торговля и ммерции) наиболее интересна как область для вложений; на успех;\n",
    "медиансуществованиякрывшегося  околостх лет, нужно продержаться дольшетот период."
   ]
  }
 ],
 "metadata": {
  "kernelspec": {
   "display_name": "Python 3 (ipykernel)",
   "language": "python",
   "name": "python3"
  },
  "language_info": {
   "codemirror_mode": {
    "name": "ipython",
    "version": 3
   },
   "file_extension": ".py",
   "mimetype": "text/x-python",
   "name": "python",
   "nbconvert_exporter": "python",
   "pygments_lexer": "ipython3",
   "version": "3.12.4"
  }
 },
 "nbformat": 4,
 "nbformat_minor": 5
}
